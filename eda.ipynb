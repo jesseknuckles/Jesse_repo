{
 "cells": [
  {
   "cell_type": "markdown",
   "metadata": {},
   "source": [
    "At the moment I have narrowed it down to 22 features which have >0.5 correlation with the target and are of general importance. Now I need to normalize the continous variables so that everything is on the same scale and add 13 more features to get our 35 Total. At the end I show which features I drop and which I Still have left. Lots of work to do..."
   ]
  },
  {
   "cell_type": "code",
   "execution_count": 2,
   "metadata": {},
   "outputs": [],
   "source": [
    "import pandas as pd\n",
    "import numpy as np\n",
    "from scipy.stats import pointbiserialr"
   ]
  },
  {
   "cell_type": "code",
   "execution_count": 3,
   "metadata": {},
   "outputs": [
    {
     "name": "stdout",
     "output_type": "stream",
     "text": [
      "Number of continous features 36\n",
      "Number of Categorical features 43\n",
      "Total Features 82\n"
     ]
    }
   ],
   "source": [
    "DF = pd.read_csv('./train.csv')\n",
    "DF.shape\n",
    "aList = list(DF.dtypes)\n",
    "categorical_columns = list( DF.select_dtypes(include=['object']).columns )\n",
    "numerical_columns = list( DF.select_dtypes(include=['int64']).columns )\n",
    "print(\"Number of continous features\", len(numerical_columns))\n",
    "print(\"Number of Categorical features\", len(categorical_columns))\n",
    "print(\"Total Features\", len(list(DF.columns)))\n",
    "target=DF['SalePrice']\n",
    "droppedCols = []"
   ]
  },
  {
   "cell_type": "markdown",
   "metadata": {},
   "source": [
    "Approach: Examine Categorical Features for\n",
    "<br> \n",
    "-correlation to target: If the feature is not highly correlated consider dropping, Considering 0.4-0.5 Moderate and >0.5 strong correlation\n",
    "<br> \n",
    "-Multicollinearity: if the feature is correllated with another feature consider keeping one or the other\n",
    "<br> \n",
    "-General Importance: if the feature seems unimportant to our target consider dropping\n",
    "<br> \n",
    "-Missing values: if the feature has over 50% missing values consider dropping. \n",
    "<br> \n",
    "-One Hot Encode Categorical variables to numeric ones. Ie create a new column and convert the results to binary values. \n",
    "\n"
   ]
  },
  {
   "cell_type": "markdown",
   "metadata": {},
   "source": [
    "Approach For Continous Features \n",
    "-correlation to target\n",
    "-multicollinearity\n",
    "-general importance\n",
    "Normalize values, this will help with algorithms like kmeans and gradient descent(still need to do)"
   ]
  },
  {
   "cell_type": "code",
   "execution_count": 4,
   "metadata": {},
   "outputs": [],
   "source": [
    "def check_correlation(data, target_variable):\n",
    "    \"\"\"\n",
    "    Check the correlation of continous features with the target variable.\n",
    "\n",
    "    Parameters:\n",
    "    - data: DataFrame, the dataset containing features and the target variable\n",
    "    - target_variable: str, the name of the target variable\n",
    "\n",
    "    Returns:\n",
    "    - correlation_df: DataFrame, a DataFrame showing the correlation of each feature with the target variable\n",
    "    \"\"\"\n",
    "    correlation_df = data.corr()[[target_variable]]\n",
    "    correlation_df = correlation_df.sort_values(by=target_variable, ascending=False)\n",
    "    return correlation_df\n",
    "def check_categorical_correlation(data, feature, target_variable):\n",
    "    \"\"\"\n",
    "    Check the correlation of a categorical feature with the target variable.\n",
    "\n",
    "    Parameters:\n",
    "    - data: DataFrame, the dataset containing the categorical feature and the target variable\n",
    "    - feature: str, the name of the categorical feature\n",
    "    - target_variable: str, the name of the target variable\n",
    "\n",
    "    Returns:\n",
    "    - correlation_result: float, the correlation of the specified categorical feature with the target variable\n",
    "    \"\"\"\n",
    "    # Calculate correlation for the specified categorical feature using point-biserial correlation\n",
    "    correlation_result, _ = pointbiserialr(data[feature], data[target_variable])\n",
    "    return correlation_result\n",
    "def inspectCol(column, data):\n",
    "    print(\"Inspecting Column:\", column)\n",
    "    print(\"Data Type:\", data[column].dtype)\n",
    "    print(\"Number of Unique Categories:\", len(data[column].unique()))\n",
    "    print(\"Unique Categories:\", data[column].unique())\n",
    "    print(\"Missing Values:\", data[column].isnull().sum())\n",
    "    print()\n",
    "def percentMissing(col, DF):\n",
    "    missingRate = DF[col].isnull().sum()/len(DF)\n",
    "    print(f'Missing rate of {col}: {missingRate}')\n",
    "def one_hot_encode(column, data):\n",
    "    one_hot_encoded = pd.get_dummies(data[column], prefix=column, drop_first=True)\n",
    "    return one_hot_encoded\n",
    "def updateDataFrame(DF, drop):\n",
    "    if drop != None:\n",
    "    # Drop the specified columns from the original DataFrame in place\n",
    "        DF.drop(drop, axis=1, inplace=True)\n",
    "\n",
    "    # Display information about the updated DataFrame\n",
    "    categorical_columns = list(DF.select_dtypes(include=['object']).columns)\n",
    "    numerical_columns = list(DF.select_dtypes(include=['int64']).columns)\n",
    "    \n",
    "    print(\"Number of continuous features:\", len(numerical_columns))\n",
    "    print(\"Number of categorical features:\", len(categorical_columns))\n",
    "    print(\"Total Features:\", len(list(DF.columns)))\n",
    "\n",
    "    return DF, categorical_columns, numerical_columns\n",
    "def process_categorical_column(df, categorical_column, target_variable, correlation_threshold=0.5):\n",
    "    # One-hot encode the categorical column\n",
    "    one_hot_encoded_df = one_hot_encode(categorical_column, df)\n",
    "    print(\"One-Hot Encoded DataFrame:\")\n",
    "    print(one_hot_encoded_df)\n",
    "\n",
    "    # Concatenate the one-hot encoded DataFrame with the original DataFrame\n",
    "    df_with_one_hot = pd.concat([df, one_hot_encoded_df], axis=1)\n",
    "\n",
    "    # Check correlation with the target variable and drop if necessary\n",
    "    cols = list(one_hot_encoded_df.columns)\n",
    "    for col in cols:\n",
    "        correlation_result = check_categorical_correlation(df_with_one_hot, col, target_variable)\n",
    "        print(f\"{col} Correlation with {target_variable}: {correlation_result}\")\n",
    "\n",
    "    return df_with_one_hot\n",
    "def add_encoded_columns(original_df, encoded_df, columns_to_add):\n",
    "    \"\"\"\n",
    "    Add specific one-hot encoded columns to the original DataFrame.\n",
    "\n",
    "    Parameters:\n",
    "    - original_df: DataFrame, the original DataFrame\n",
    "    - encoded_df: DataFrame, the DataFrame with one-hot encoded columns\n",
    "    - columns_to_add: list, a list of column names to add to the original DataFrame\n",
    "\n",
    "    Returns:\n",
    "    - updated_df: DataFrame, the updated DataFrame with added columns\n",
    "    \"\"\"\n",
    "    # Ensure columns_to_add is a list even if it contains a single column\n",
    "    if not isinstance(columns_to_add, list):\n",
    "        columns_to_add = [columns_to_add]\n",
    "\n",
    "    # Select the desired columns from the one-hot encoded DataFrame\n",
    "    selected_columns = encoded_df[columns_to_add]\n",
    "\n",
    "    # Concatenate the selected columns with the original DataFrame\n",
    "    updated_df = pd.concat([original_df, selected_columns], axis=1)\n",
    "\n",
    "    return updated_df"
   ]
  },
  {
   "cell_type": "markdown",
   "metadata": {},
   "source": [
    "# 1\n",
    "MSZoning is the first, RL meaning Residential Low density,etc.\n",
    "Nominal Data should be converted into corresponding strings"
   ]
  },
  {
   "cell_type": "code",
   "execution_count": 5,
   "metadata": {},
   "outputs": [
    {
     "name": "stdout",
     "output_type": "stream",
     "text": [
      "Inspecting Column: MSZoning\n",
      "Data Type: object\n",
      "Number of Unique Categories: 5\n",
      "Unique Categories: ['RL' 'FV' 'RM' 'C (all)' 'RH']\n",
      "Missing Values: 0\n",
      "\n",
      "One-Hot Encoded DataFrame:\n",
      "      MSZoning_FV  MSZoning_RH  MSZoning_RL  MSZoning_RM\n",
      "0           False        False         True        False\n",
      "1           False        False         True        False\n",
      "2           False        False         True        False\n",
      "3            True        False        False        False\n",
      "4           False        False         True        False\n",
      "...           ...          ...          ...          ...\n",
      "1017        False        False         True        False\n",
      "1018        False        False         True        False\n",
      "1019        False        False         True        False\n",
      "1020        False        False         True        False\n",
      "1021        False        False         True        False\n",
      "\n",
      "[1022 rows x 4 columns]\n",
      "MSZoning_FV Correlation with SalePrice: 0.10405808377927131\n",
      "MSZoning_RH Correlation with SalePrice: -0.07391227514199167\n",
      "MSZoning_RL Correlation with SalePrice: 0.25383376920576417\n",
      "MSZoning_RM Correlation with SalePrice: -0.30711659415473336\n"
     ]
    }
   ],
   "source": [
    "inspectCol(categorical_columns[0], DF)\n",
    "DF_with_processed_categorical = process_categorical_column(DF, categorical_columns[0], target_variable='SalePrice')"
   ]
  },
  {
   "cell_type": "markdown",
   "metadata": {},
   "source": [
    "Since all of the cols have low correlation with the target, going to drop it."
   ]
  },
  {
   "cell_type": "code",
   "execution_count": 6,
   "metadata": {},
   "outputs": [
    {
     "name": "stdout",
     "output_type": "stream",
     "text": [
      "Number of continuous features: 36\n",
      "Number of categorical features: 42\n",
      "Total Features: 81\n"
     ]
    }
   ],
   "source": [
    "DF, categorical_columns, numerical_columns = updateDataFrame(DF, 'MSZoning')\n",
    "droppedCols.append('MSZoning')\n"
   ]
  },
  {
   "cell_type": "markdown",
   "metadata": {},
   "source": [
    "# 2\n",
    "Street"
   ]
  },
  {
   "cell_type": "code",
   "execution_count": 7,
   "metadata": {},
   "outputs": [
    {
     "name": "stdout",
     "output_type": "stream",
     "text": [
      "Inspecting Column: Street\n",
      "Data Type: object\n",
      "Number of Unique Categories: 2\n",
      "Unique Categories: ['Pave' 'Grvl']\n",
      "Missing Values: 0\n",
      "\n",
      "One-Hot Encoded DataFrame:\n",
      "      Street_Pave\n",
      "0            True\n",
      "1            True\n",
      "2            True\n",
      "3            True\n",
      "4            True\n",
      "...           ...\n",
      "1017         True\n",
      "1018         True\n",
      "1019         True\n",
      "1020         True\n",
      "1021         True\n",
      "\n",
      "[1022 rows x 1 columns]\n",
      "Street_Pave Correlation with SalePrice: 0.03557372119219705\n"
     ]
    }
   ],
   "source": [
    "inspectCol(categorical_columns[0], DF)\n",
    "DF_with_processed_categorical = process_categorical_column(DF, categorical_columns[0], target_variable='SalePrice')"
   ]
  },
  {
   "cell_type": "markdown",
   "metadata": {},
   "source": [
    "Low correlation with target varable so drop"
   ]
  },
  {
   "cell_type": "code",
   "execution_count": 8,
   "metadata": {},
   "outputs": [
    {
     "name": "stdout",
     "output_type": "stream",
     "text": [
      "Number of continuous features: 36\n",
      "Number of categorical features: 41\n",
      "Total Features: 80\n"
     ]
    }
   ],
   "source": [
    "DF, categorical_columns, numerical_columns = updateDataFrame(DF, 'Street')\n",
    "droppedCols.append('Street')"
   ]
  },
  {
   "cell_type": "markdown",
   "metadata": {},
   "source": [
    "# 3"
   ]
  },
  {
   "cell_type": "code",
   "execution_count": 9,
   "metadata": {},
   "outputs": [
    {
     "name": "stdout",
     "output_type": "stream",
     "text": [
      "Inspecting Column: Alley\n",
      "Data Type: object\n",
      "Number of Unique Categories: 3\n",
      "Unique Categories: [nan 'Pave' 'Grvl']\n",
      "Missing Values: 962\n",
      "\n",
      "Missing rate of Alley: 0.9412915851272016\n"
     ]
    }
   ],
   "source": [
    "inspectCol(categorical_columns[0], DF)\n",
    "percentMissing(categorical_columns[0], DF)"
   ]
  },
  {
   "cell_type": "markdown",
   "metadata": {},
   "source": [
    "Over 90% missing values, going to assume that we can drop this one"
   ]
  },
  {
   "cell_type": "code",
   "execution_count": 10,
   "metadata": {},
   "outputs": [
    {
     "name": "stdout",
     "output_type": "stream",
     "text": [
      "Number of continuous features: 36\n",
      "Number of categorical features: 40\n",
      "Total Features: 79\n"
     ]
    }
   ],
   "source": [
    "DF, categorical_columns, numerical_columns = updateDataFrame(DF, 'Alley')\n",
    "droppedCols.append('Alley')"
   ]
  },
  {
   "cell_type": "markdown",
   "metadata": {},
   "source": [
    "# 4"
   ]
  },
  {
   "cell_type": "code",
   "execution_count": 11,
   "metadata": {},
   "outputs": [
    {
     "name": "stdout",
     "output_type": "stream",
     "text": [
      "Inspecting Column: LotShape\n",
      "Data Type: object\n",
      "Number of Unique Categories: 4\n",
      "Unique Categories: ['Reg' 'IR1' 'IR2' 'IR3']\n",
      "Missing Values: 0\n",
      "\n",
      "One-Hot Encoded DataFrame:\n",
      "      LotShape_IR2  LotShape_IR3  LotShape_Reg\n",
      "0            False         False          True\n",
      "1            False         False          True\n",
      "2            False         False          True\n",
      "3            False         False         False\n",
      "4            False         False         False\n",
      "...            ...           ...           ...\n",
      "1017         False         False          True\n",
      "1018         False         False          True\n",
      "1019         False         False          True\n",
      "1020         False         False          True\n",
      "1021         False         False         False\n",
      "\n",
      "[1022 rows x 3 columns]\n",
      "LotShape_IR2 Correlation with SalePrice: 0.11525415119840204\n",
      "LotShape_IR3 Correlation with SalePrice: 0.03719930320082107\n",
      "LotShape_Reg Correlation with SalePrice: -0.26136652224636314\n"
     ]
    }
   ],
   "source": [
    "inspectCol(categorical_columns[0], DF)\n",
    "DF_with_processed_categorical = process_categorical_column(DF, categorical_columns[0], target_variable='SalePrice')"
   ]
  },
  {
   "cell_type": "markdown",
   "metadata": {},
   "source": [
    "Weak correlation so drop"
   ]
  },
  {
   "cell_type": "code",
   "execution_count": 12,
   "metadata": {},
   "outputs": [
    {
     "name": "stdout",
     "output_type": "stream",
     "text": [
      "Number of continuous features: 36\n",
      "Number of categorical features: 39\n",
      "Total Features: 78\n"
     ]
    }
   ],
   "source": [
    "DF, categorical_columns, numerical_columns = updateDataFrame(DF, 'LotShape')\n",
    "droppedCols.append('LotShape')"
   ]
  },
  {
   "cell_type": "markdown",
   "metadata": {},
   "source": [
    "# 5"
   ]
  },
  {
   "cell_type": "code",
   "execution_count": 13,
   "metadata": {},
   "outputs": [
    {
     "name": "stdout",
     "output_type": "stream",
     "text": [
      "Inspecting Column: LandContour\n",
      "Data Type: object\n",
      "Number of Unique Categories: 4\n",
      "Unique Categories: ['Lvl' 'Low' 'Bnk' 'HLS']\n",
      "Missing Values: 0\n",
      "\n",
      "One-Hot Encoded DataFrame:\n",
      "      LandContour_HLS  LandContour_Low  LandContour_Lvl\n",
      "0               False            False             True\n",
      "1               False            False             True\n",
      "2               False            False             True\n",
      "3               False            False             True\n",
      "4               False            False             True\n",
      "...               ...              ...              ...\n",
      "1017            False            False             True\n",
      "1018            False            False             True\n",
      "1019            False            False             True\n",
      "1020            False            False            False\n",
      "1021            False            False             True\n",
      "\n",
      "[1022 rows x 3 columns]\n",
      "LandContour_HLS Correlation with SalePrice: 0.13729530290488345\n",
      "LandContour_Low Correlation with SalePrice: 0.04446641044326761\n",
      "LandContour_Lvl Correlation with SalePrice: -0.029041430483962093\n"
     ]
    }
   ],
   "source": [
    "inspectCol(categorical_columns[0], DF)\n",
    "DF_with_processed_categorical = process_categorical_column(DF, categorical_columns[0], target_variable='SalePrice')"
   ]
  },
  {
   "cell_type": "markdown",
   "metadata": {},
   "source": [
    "Weak correlation so drop"
   ]
  },
  {
   "cell_type": "code",
   "execution_count": 14,
   "metadata": {},
   "outputs": [
    {
     "name": "stdout",
     "output_type": "stream",
     "text": [
      "Number of continuous features: 36\n",
      "Number of categorical features: 38\n",
      "Total Features: 77\n"
     ]
    }
   ],
   "source": [
    "DF, categorical_columns, numerical_columns = updateDataFrame(DF, 'LandContour')\n",
    "droppedCols.append('LandContour')"
   ]
  },
  {
   "cell_type": "markdown",
   "metadata": {},
   "source": [
    "# 6"
   ]
  },
  {
   "cell_type": "code",
   "execution_count": 15,
   "metadata": {},
   "outputs": [
    {
     "name": "stdout",
     "output_type": "stream",
     "text": [
      "Inspecting Column: Utilities\n",
      "Data Type: object\n",
      "Number of Unique Categories: 2\n",
      "Unique Categories: ['AllPub' 'NoSeWa']\n",
      "Missing Values: 0\n",
      "\n",
      "One-Hot Encoded DataFrame:\n",
      "      Utilities_NoSeWa\n",
      "0                False\n",
      "1                False\n",
      "2                False\n",
      "3                False\n",
      "4                False\n",
      "...                ...\n",
      "1017             False\n",
      "1018             False\n",
      "1019             False\n",
      "1020             False\n",
      "1021             False\n",
      "\n",
      "[1022 rows x 1 columns]\n",
      "Utilities_NoSeWa Correlation with SalePrice: -0.016854843033484397\n"
     ]
    }
   ],
   "source": [
    "inspectCol(categorical_columns[0], DF)\n",
    "DF_with_processed_categorical = process_categorical_column(DF, categorical_columns[0], target_variable='SalePrice')"
   ]
  },
  {
   "cell_type": "markdown",
   "metadata": {},
   "source": [
    "Weak Correlation so drop"
   ]
  },
  {
   "cell_type": "code",
   "execution_count": 16,
   "metadata": {},
   "outputs": [
    {
     "name": "stdout",
     "output_type": "stream",
     "text": [
      "Number of continuous features: 36\n",
      "Number of categorical features: 37\n",
      "Total Features: 76\n"
     ]
    }
   ],
   "source": [
    "DF, categorical_columns, numerical_columns = updateDataFrame(DF, 'Utilities')\n",
    "droppedCols.append('Utilities')"
   ]
  },
  {
   "cell_type": "markdown",
   "metadata": {},
   "source": [
    "# 7"
   ]
  },
  {
   "cell_type": "code",
   "execution_count": 17,
   "metadata": {},
   "outputs": [
    {
     "name": "stdout",
     "output_type": "stream",
     "text": [
      "Inspecting Column: LotConfig\n",
      "Data Type: object\n",
      "Number of Unique Categories: 5\n",
      "Unique Categories: ['Inside' 'Corner' 'CulDSac' 'FR2' 'FR3']\n",
      "Missing Values: 0\n",
      "\n",
      "One-Hot Encoded DataFrame:\n",
      "      LotConfig_CulDSac  LotConfig_FR2  LotConfig_FR3  LotConfig_Inside\n",
      "0                 False          False          False              True\n",
      "1                 False          False          False              True\n",
      "2                 False          False          False             False\n",
      "3                 False          False          False              True\n",
      "4                 False          False          False             False\n",
      "...                 ...            ...            ...               ...\n",
      "1017              False          False          False             False\n",
      "1018              False          False          False              True\n",
      "1019              False          False          False              True\n",
      "1020              False          False          False             False\n",
      "1021              False          False          False              True\n",
      "\n",
      "[1022 rows x 4 columns]\n",
      "LotConfig_CulDSac Correlation with SalePrice: 0.14042321135761165\n",
      "LotConfig_FR2 Correlation with SalePrice: -0.010961053617681973\n",
      "LotConfig_FR3 Correlation with SalePrice: -0.013761723033265064\n",
      "LotConfig_Inside Correlation with SalePrice: -0.0706279122831415\n"
     ]
    }
   ],
   "source": [
    "inspectCol(categorical_columns[0], DF)\n",
    "DF_with_processed_categorical = process_categorical_column(DF, categorical_columns[0], target_variable='SalePrice')"
   ]
  },
  {
   "cell_type": "markdown",
   "metadata": {},
   "source": [
    "weak correlation so drop"
   ]
  },
  {
   "cell_type": "code",
   "execution_count": 18,
   "metadata": {},
   "outputs": [
    {
     "name": "stdout",
     "output_type": "stream",
     "text": [
      "Number of continuous features: 36\n",
      "Number of categorical features: 36\n",
      "Total Features: 75\n"
     ]
    }
   ],
   "source": [
    "DF, categorical_columns, numerical_columns = updateDataFrame(DF, 'LotConfig')\n",
    "droppedCols.append('LotConfig')"
   ]
  },
  {
   "cell_type": "markdown",
   "metadata": {},
   "source": [
    "# 8"
   ]
  },
  {
   "cell_type": "code",
   "execution_count": 19,
   "metadata": {},
   "outputs": [
    {
     "name": "stdout",
     "output_type": "stream",
     "text": [
      "Inspecting Column: LandSlope\n",
      "Data Type: object\n",
      "Number of Unique Categories: 3\n",
      "Unique Categories: ['Gtl' 'Mod' 'Sev']\n",
      "Missing Values: 0\n",
      "\n",
      "One-Hot Encoded DataFrame:\n",
      "      LandSlope_Mod  LandSlope_Sev\n",
      "0             False          False\n",
      "1             False          False\n",
      "2             False          False\n",
      "3             False          False\n",
      "4             False          False\n",
      "...             ...            ...\n",
      "1017          False          False\n",
      "1018          False          False\n",
      "1019          False          False\n",
      "1020           True          False\n",
      "1021          False          False\n",
      "\n",
      "[1022 rows x 2 columns]\n",
      "LandSlope_Mod Correlation with SalePrice: 0.03159273420825288\n",
      "LandSlope_Sev Correlation with SalePrice: 0.03860688219284656\n"
     ]
    }
   ],
   "source": [
    "inspectCol(categorical_columns[0], DF)\n",
    "DF_with_processed_categorical = process_categorical_column(DF, categorical_columns[0], target_variable='SalePrice')"
   ]
  },
  {
   "cell_type": "markdown",
   "metadata": {},
   "source": [
    "weak correlation so drop"
   ]
  },
  {
   "cell_type": "code",
   "execution_count": 20,
   "metadata": {},
   "outputs": [
    {
     "name": "stdout",
     "output_type": "stream",
     "text": [
      "Number of continuous features: 36\n",
      "Number of categorical features: 35\n",
      "Total Features: 74\n"
     ]
    }
   ],
   "source": [
    "DF, categorical_columns, numerical_columns = updateDataFrame(DF, 'LandSlope')\n",
    "droppedCols.append('LandSlope')"
   ]
  },
  {
   "cell_type": "markdown",
   "metadata": {},
   "source": [
    "# 9"
   ]
  },
  {
   "cell_type": "code",
   "execution_count": 21,
   "metadata": {},
   "outputs": [
    {
     "name": "stdout",
     "output_type": "stream",
     "text": [
      "Inspecting Column: Neighborhood\n",
      "Data Type: object\n",
      "Number of Unique Categories: 24\n",
      "Unique Categories: ['CollgCr' 'Edwards' 'NAmes' 'Somerst' 'Timber' 'Veenker' 'OldTown'\n",
      " 'BrkSide' 'ClearCr' 'MeadowV' 'Mitchel' 'SawyerW' 'StoneBr' 'NoRidge'\n",
      " 'SWISU' 'Sawyer' 'Gilbert' 'IDOTRR' 'NridgHt' 'Blmngtn' 'NWAmes'\n",
      " 'Crawfor' 'BrDale' 'NPkVill']\n",
      "Missing Values: 0\n",
      "\n",
      "One-Hot Encoded DataFrame:\n",
      "      Neighborhood_BrDale  Neighborhood_BrkSide  Neighborhood_ClearCr  \\\n",
      "0                   False                 False                 False   \n",
      "1                   False                 False                 False   \n",
      "2                   False                 False                 False   \n",
      "3                   False                 False                 False   \n",
      "4                   False                 False                 False   \n",
      "...                   ...                   ...                   ...   \n",
      "1017                False                 False                 False   \n",
      "1018                False                 False                 False   \n",
      "1019                False                 False                 False   \n",
      "1020                False                 False                 False   \n",
      "1021                False                 False                 False   \n",
      "\n",
      "      Neighborhood_CollgCr  Neighborhood_Crawfor  Neighborhood_Edwards  \\\n",
      "0                     True                 False                 False   \n",
      "1                    False                 False                  True   \n",
      "2                    False                 False                 False   \n",
      "3                    False                 False                 False   \n",
      "4                    False                 False                 False   \n",
      "...                    ...                   ...                   ...   \n",
      "1017                 False                 False                 False   \n",
      "1018                 False                 False                 False   \n",
      "1019                 False                 False                 False   \n",
      "1020                 False                 False                 False   \n",
      "1021                 False                 False                 False   \n",
      "\n",
      "      Neighborhood_Gilbert  Neighborhood_IDOTRR  Neighborhood_MeadowV  \\\n",
      "0                    False                False                 False   \n",
      "1                    False                False                 False   \n",
      "2                    False                False                 False   \n",
      "3                    False                False                 False   \n",
      "4                    False                False                 False   \n",
      "...                    ...                  ...                   ...   \n",
      "1017                 False                False                 False   \n",
      "1018                 False                False                 False   \n",
      "1019                 False                False                 False   \n",
      "1020                 False                False                 False   \n",
      "1021                 False                False                 False   \n",
      "\n",
      "      Neighborhood_Mitchel  ...  Neighborhood_NoRidge  Neighborhood_NridgHt  \\\n",
      "0                    False  ...                 False                 False   \n",
      "1                    False  ...                 False                 False   \n",
      "2                    False  ...                 False                 False   \n",
      "3                    False  ...                 False                 False   \n",
      "4                    False  ...                 False                 False   \n",
      "...                    ...  ...                   ...                   ...   \n",
      "1017                 False  ...                 False                 False   \n",
      "1018                 False  ...                 False                 False   \n",
      "1019                 False  ...                 False                 False   \n",
      "1020                 False  ...                 False                 False   \n",
      "1021                 False  ...                 False                 False   \n",
      "\n",
      "      Neighborhood_OldTown  Neighborhood_SWISU  Neighborhood_Sawyer  \\\n",
      "0                    False               False                False   \n",
      "1                    False               False                False   \n",
      "2                    False               False                False   \n",
      "3                    False               False                False   \n",
      "4                    False               False                False   \n",
      "...                    ...                 ...                  ...   \n",
      "1017                 False               False                False   \n",
      "1018                 False               False                False   \n",
      "1019                 False               False                 True   \n",
      "1020                 False               False                 True   \n",
      "1021                 False               False                 True   \n",
      "\n",
      "      Neighborhood_SawyerW  Neighborhood_Somerst  Neighborhood_StoneBr  \\\n",
      "0                    False                 False                 False   \n",
      "1                    False                 False                 False   \n",
      "2                    False                 False                 False   \n",
      "3                    False                  True                 False   \n",
      "4                    False                 False                 False   \n",
      "...                    ...                   ...                   ...   \n",
      "1017                 False                 False                 False   \n",
      "1018                 False                 False                 False   \n",
      "1019                 False                 False                 False   \n",
      "1020                 False                 False                 False   \n",
      "1021                 False                 False                 False   \n",
      "\n",
      "      Neighborhood_Timber  Neighborhood_Veenker  \n",
      "0                   False                 False  \n",
      "1                   False                 False  \n",
      "2                   False                 False  \n",
      "3                   False                 False  \n",
      "4                   False                 False  \n",
      "...                   ...                   ...  \n",
      "1017                False                 False  \n",
      "1018                False                 False  \n",
      "1019                False                 False  \n",
      "1020                False                 False  \n",
      "1021                False                 False  \n",
      "\n",
      "[1022 rows x 23 columns]\n",
      "Neighborhood_BrDale Correlation with SalePrice: -0.09365136888386068\n",
      "Neighborhood_BrkSide Correlation with SalePrice: -0.14605418249636945\n",
      "Neighborhood_ClearCr Correlation with SalePrice: 0.037432779888672114\n",
      "Neighborhood_CollgCr Correlation with SalePrice: 0.05298450941506438\n",
      "Neighborhood_Crawfor Correlation with SalePrice: 0.07185432580448475\n",
      "Neighborhood_Edwards Correlation with SalePrice: -0.17419219051362256\n",
      "Neighborhood_Gilbert Correlation with SalePrice: 0.027650294596752632\n",
      "Neighborhood_IDOTRR Correlation with SalePrice: -0.17268877495796153\n",
      "Neighborhood_MeadowV Correlation with SalePrice: -0.11058101590484287\n",
      "Neighborhood_Mitchel Correlation with SalePrice: -0.04661496105380241\n",
      "Neighborhood_NAmes Correlation with SalePrice: -0.17851351220652142\n",
      "Neighborhood_NPkVill Correlation with SalePrice: -0.026151814676984214\n",
      "Neighborhood_NWAmes Correlation with SalePrice: 0.009556745685200398\n",
      "Neighborhood_NoRidge Correlation with SalePrice: 0.3276264489219352\n",
      "Neighborhood_NridgHt Correlation with SalePrice: 0.4211030832939474\n",
      "Neighborhood_OldTown Correlation with SalePrice: -0.2083478469107995\n",
      "Neighborhood_SWISU Correlation with SalePrice: -0.0727746027164583\n",
      "Neighborhood_Sawyer Correlation with SalePrice: -0.12969801694225402\n",
      "Neighborhood_SawyerW Correlation with SalePrice: 0.031451777091928826\n",
      "Neighborhood_Somerst Correlation with SalePrice: 0.15331546022167802\n",
      "Neighborhood_StoneBr Correlation with SalePrice: 0.22214873991331607\n",
      "Neighborhood_Timber Correlation with SalePrice: 0.135503403410453\n",
      "Neighborhood_Veenker Correlation with SalePrice: 0.05280444364329257\n"
     ]
    }
   ],
   "source": [
    "inspectCol(categorical_columns[0], DF)\n",
    "DF_with_processed_categorical = process_categorical_column(DF, categorical_columns[0], target_variable='SalePrice')"
   ]
  },
  {
   "cell_type": "markdown",
   "metadata": {},
   "source": [
    "weak correlation so drop"
   ]
  },
  {
   "cell_type": "code",
   "execution_count": 22,
   "metadata": {},
   "outputs": [
    {
     "name": "stdout",
     "output_type": "stream",
     "text": [
      "Number of continuous features: 36\n",
      "Number of categorical features: 34\n",
      "Total Features: 73\n"
     ]
    }
   ],
   "source": [
    "DF, categorical_columns, numerical_columns = updateDataFrame(DF, 'Neighborhood')\n",
    "droppedCols.append('Neighborhood')"
   ]
  },
  {
   "cell_type": "markdown",
   "metadata": {},
   "source": [
    "# 10"
   ]
  },
  {
   "cell_type": "code",
   "execution_count": 23,
   "metadata": {},
   "outputs": [
    {
     "name": "stdout",
     "output_type": "stream",
     "text": [
      "Inspecting Column: Condition1\n",
      "Data Type: object\n",
      "Number of Unique Categories: 9\n",
      "Unique Categories: ['Norm' 'Artery' 'RRAn' 'Feedr' 'RRNn' 'PosN' 'RRAe' 'PosA' 'RRNe']\n",
      "Missing Values: 0\n",
      "\n",
      "One-Hot Encoded DataFrame:\n",
      "      Condition1_Feedr  Condition1_Norm  Condition1_PosA  Condition1_PosN  \\\n",
      "0                False             True            False            False   \n",
      "1                False            False            False            False   \n",
      "2                False            False            False            False   \n",
      "3                False             True            False            False   \n",
      "4                False             True            False            False   \n",
      "...                ...              ...              ...              ...   \n",
      "1017             False             True            False            False   \n",
      "1018             False             True            False            False   \n",
      "1019             False             True            False            False   \n",
      "1020             False             True            False            False   \n",
      "1021             False             True            False            False   \n",
      "\n",
      "      Condition1_RRAe  Condition1_RRAn  Condition1_RRNe  Condition1_RRNn  \n",
      "0               False            False            False            False  \n",
      "1               False            False            False            False  \n",
      "2               False            False            False            False  \n",
      "3               False            False            False            False  \n",
      "4               False            False            False            False  \n",
      "...               ...              ...              ...              ...  \n",
      "1017            False            False            False            False  \n",
      "1018            False            False            False            False  \n",
      "1019            False            False            False            False  \n",
      "1020            False            False            False            False  \n",
      "1021            False            False            False            False  \n",
      "\n",
      "[1022 rows x 8 columns]\n",
      "Condition1_Feedr Correlation with SalePrice: -0.09379225359374699\n",
      "Condition1_Norm Correlation with SalePrice: 0.12622436923652575\n",
      "Condition1_PosA Correlation with SalePrice: 0.044546105892745935\n",
      "Condition1_PosN Correlation with SalePrice: 0.04193710608221217\n",
      "Condition1_RRAe Correlation with SalePrice: -0.04970117709373499\n",
      "Condition1_RRAn Correlation with SalePrice: -0.017889313057181284\n",
      "Condition1_RRNe Correlation with SalePrice: 0.005168480073623191\n",
      "Condition1_RRNn Correlation with SalePrice: 0.003387206502622216\n"
     ]
    }
   ],
   "source": [
    "inspectCol(categorical_columns[0], DF)\n",
    "DF_with_processed_categorical = process_categorical_column(DF, categorical_columns[0], target_variable='SalePrice')"
   ]
  },
  {
   "cell_type": "markdown",
   "metadata": {},
   "source": [
    "Weak correlation so drop"
   ]
  },
  {
   "cell_type": "code",
   "execution_count": 24,
   "metadata": {},
   "outputs": [
    {
     "name": "stdout",
     "output_type": "stream",
     "text": [
      "Number of continuous features: 36\n",
      "Number of categorical features: 33\n",
      "Total Features: 72\n"
     ]
    }
   ],
   "source": [
    "DF, categorical_columns, numerical_columns = updateDataFrame(DF, 'Condition1')\n",
    "droppedCols.append('Condition1')"
   ]
  },
  {
   "cell_type": "markdown",
   "metadata": {},
   "source": [
    "# 11"
   ]
  },
  {
   "cell_type": "code",
   "execution_count": 25,
   "metadata": {},
   "outputs": [
    {
     "name": "stdout",
     "output_type": "stream",
     "text": [
      "Inspecting Column: Condition2\n",
      "Data Type: object\n",
      "Number of Unique Categories: 8\n",
      "Unique Categories: ['Norm' 'RRAe' 'Feedr' 'Artery' 'PosA' 'RRNn' 'PosN' 'RRAn']\n",
      "Missing Values: 0\n",
      "\n",
      "One-Hot Encoded DataFrame:\n",
      "      Condition2_Feedr  Condition2_Norm  Condition2_PosA  Condition2_PosN  \\\n",
      "0                False             True            False            False   \n",
      "1                False             True            False            False   \n",
      "2                False             True            False            False   \n",
      "3                False             True            False            False   \n",
      "4                False             True            False            False   \n",
      "...                ...              ...              ...              ...   \n",
      "1017             False             True            False            False   \n",
      "1018             False             True            False            False   \n",
      "1019             False             True            False            False   \n",
      "1020             False             True            False            False   \n",
      "1021             False             True            False            False   \n",
      "\n",
      "      Condition2_RRAe  Condition2_RRAn  Condition2_RRNn  \n",
      "0               False            False            False  \n",
      "1               False            False            False  \n",
      "2               False            False            False  \n",
      "3               False            False            False  \n",
      "4               False            False            False  \n",
      "...               ...              ...              ...  \n",
      "1017            False            False            False  \n",
      "1018            False            False            False  \n",
      "1019            False            False            False  \n",
      "1020            False            False            False  \n",
      "1021            False            False            False  \n",
      "\n",
      "[1022 rows x 7 columns]\n",
      "Condition2_Feedr Correlation with SalePrice: -0.05516230671738442\n",
      "Condition2_Norm Correlation with SalePrice: 0.03494706102237269\n",
      "Condition2_PosA Correlation with SalePrice: 0.05559029876621169\n",
      "Condition2_PosN Correlation with SalePrice: 0.07877274414211588\n",
      "Condition2_RRAe Correlation with SalePrice: 0.0034297966704304097\n",
      "Condition2_RRAn Correlation with SalePrice: -0.01708473561679605\n",
      "Condition2_RRNn Correlation with SalePrice: -0.04612537218903737\n"
     ]
    }
   ],
   "source": [
    "inspectCol(categorical_columns[0], DF)\n",
    "DF_with_processed_categorical = process_categorical_column(DF, categorical_columns[0], target_variable='SalePrice')"
   ]
  },
  {
   "cell_type": "markdown",
   "metadata": {},
   "source": [
    "weak corr so drop"
   ]
  },
  {
   "cell_type": "code",
   "execution_count": 26,
   "metadata": {},
   "outputs": [
    {
     "name": "stdout",
     "output_type": "stream",
     "text": [
      "Number of continuous features: 36\n",
      "Number of categorical features: 32\n",
      "Total Features: 71\n"
     ]
    }
   ],
   "source": [
    "DF, categorical_columns, numerical_columns = updateDataFrame(DF, 'Condition2')\n",
    "droppedCols.append('Condition2')"
   ]
  },
  {
   "cell_type": "markdown",
   "metadata": {},
   "source": [
    "# 12"
   ]
  },
  {
   "cell_type": "code",
   "execution_count": 27,
   "metadata": {},
   "outputs": [
    {
     "name": "stdout",
     "output_type": "stream",
     "text": [
      "Inspecting Column: BldgType\n",
      "Data Type: object\n",
      "Number of Unique Categories: 5\n",
      "Unique Categories: ['1Fam' 'TwnhsE' 'Duplex' 'Twnhs' '2fmCon']\n",
      "Missing Values: 0\n",
      "\n",
      "One-Hot Encoded DataFrame:\n",
      "      BldgType_2fmCon  BldgType_Duplex  BldgType_Twnhs  BldgType_TwnhsE\n",
      "0               False            False           False            False\n",
      "1               False            False           False            False\n",
      "2               False            False           False            False\n",
      "3               False            False           False             True\n",
      "4               False            False           False            False\n",
      "...               ...              ...             ...              ...\n",
      "1017            False            False           False             True\n",
      "1018            False            False           False            False\n",
      "1019            False             True           False            False\n",
      "1020            False            False           False            False\n",
      "1021            False            False           False            False\n",
      "\n",
      "[1022 rows x 4 columns]\n",
      "BldgType_2fmCon Correlation with SalePrice: -0.10098580708660584\n",
      "BldgType_Duplex Correlation with SalePrice: -0.11567491084946455\n",
      "BldgType_Twnhs Correlation with SalePrice: -0.09485300269370138\n",
      "BldgType_TwnhsE Correlation with SalePrice: 0.016280175539267017\n"
     ]
    }
   ],
   "source": [
    "inspectCol(categorical_columns[0], DF)\n",
    "DF_with_processed_categorical = process_categorical_column(DF, categorical_columns[0], target_variable='SalePrice')"
   ]
  },
  {
   "cell_type": "markdown",
   "metadata": {},
   "source": [
    "weak corr so drop"
   ]
  },
  {
   "cell_type": "code",
   "execution_count": 28,
   "metadata": {},
   "outputs": [
    {
     "name": "stdout",
     "output_type": "stream",
     "text": [
      "Number of continuous features: 36\n",
      "Number of categorical features: 31\n",
      "Total Features: 70\n"
     ]
    }
   ],
   "source": [
    "DF, categorical_columns, numerical_columns = updateDataFrame(DF, 'BldgType')\n",
    "droppedCols.append('BldgType')"
   ]
  },
  {
   "cell_type": "markdown",
   "metadata": {},
   "source": [
    "# 13"
   ]
  },
  {
   "cell_type": "code",
   "execution_count": 29,
   "metadata": {},
   "outputs": [
    {
     "name": "stdout",
     "output_type": "stream",
     "text": [
      "Inspecting Column: HouseStyle\n",
      "Data Type: object\n",
      "Number of Unique Categories: 8\n",
      "Unique Categories: ['2Story' 'SLvl' '1Story' '1.5Fin' 'SFoyer' '1.5Unf' '2.5Unf' '2.5Fin']\n",
      "Missing Values: 0\n",
      "\n",
      "One-Hot Encoded DataFrame:\n",
      "      HouseStyle_1.5Unf  HouseStyle_1Story  HouseStyle_2.5Fin  \\\n",
      "0                 False              False              False   \n",
      "1                 False              False              False   \n",
      "2                 False              False              False   \n",
      "3                 False               True              False   \n",
      "4                 False               True              False   \n",
      "...                 ...                ...                ...   \n",
      "1017              False              False              False   \n",
      "1018              False               True              False   \n",
      "1019              False               True              False   \n",
      "1020              False               True              False   \n",
      "1021              False               True              False   \n",
      "\n",
      "      HouseStyle_2.5Unf  HouseStyle_2Story  HouseStyle_SFoyer  HouseStyle_SLvl  \n",
      "0                 False               True              False            False  \n",
      "1                 False               True              False            False  \n",
      "2                 False              False              False             True  \n",
      "3                 False              False              False            False  \n",
      "4                 False              False              False            False  \n",
      "...                 ...                ...                ...              ...  \n",
      "1017              False               True              False            False  \n",
      "1018              False              False              False            False  \n",
      "1019              False              False              False            False  \n",
      "1020              False              False              False            False  \n",
      "1021              False              False              False            False  \n",
      "\n",
      "[1022 rows x 7 columns]\n",
      "HouseStyle_1.5Unf Correlation with SalePrice: -0.07606061706383294\n",
      "HouseStyle_1Story Correlation with SalePrice: -0.05791938064264364\n",
      "HouseStyle_2.5Fin Correlation with SalePrice: -0.025440045825608347\n",
      "HouseStyle_2.5Unf Correlation with SalePrice: -0.022012113786611838\n",
      "HouseStyle_2Story Correlation with SalePrice: 0.25615218272802787\n",
      "HouseStyle_SFoyer Correlation with SalePrice: -0.09448151679825155\n",
      "HouseStyle_SLvl Correlation with SalePrice: -0.03361155223340198\n"
     ]
    }
   ],
   "source": [
    "inspectCol(categorical_columns[0], DF)\n",
    "DF_with_processed_categorical = process_categorical_column(DF, categorical_columns[0], target_variable='SalePrice')"
   ]
  },
  {
   "cell_type": "code",
   "execution_count": 30,
   "metadata": {},
   "outputs": [
    {
     "name": "stdout",
     "output_type": "stream",
     "text": [
      "Number of continuous features: 36\n",
      "Number of categorical features: 30\n",
      "Total Features: 69\n"
     ]
    }
   ],
   "source": [
    "DF, categorical_columns, numerical_columns = updateDataFrame(DF, 'HouseStyle')\n",
    "droppedCols.append('HouseStyle')"
   ]
  },
  {
   "cell_type": "markdown",
   "metadata": {},
   "source": [
    "# 14"
   ]
  },
  {
   "cell_type": "code",
   "execution_count": 31,
   "metadata": {},
   "outputs": [
    {
     "name": "stdout",
     "output_type": "stream",
     "text": [
      "Inspecting Column: RoofStyle\n",
      "Data Type: object\n",
      "Number of Unique Categories: 6\n",
      "Unique Categories: ['Gable' 'Hip' 'Shed' 'Flat' 'Gambrel' 'Mansard']\n",
      "Missing Values: 0\n",
      "\n",
      "One-Hot Encoded DataFrame:\n",
      "      RoofStyle_Gable  RoofStyle_Gambrel  RoofStyle_Hip  RoofStyle_Mansard  \\\n",
      "0                True              False          False              False   \n",
      "1                True              False          False              False   \n",
      "2                True              False          False              False   \n",
      "3                True              False          False              False   \n",
      "4                True              False          False              False   \n",
      "...               ...                ...            ...                ...   \n",
      "1017             True              False          False              False   \n",
      "1018            False              False           True              False   \n",
      "1019             True              False          False              False   \n",
      "1020             True              False          False              False   \n",
      "1021             True              False          False              False   \n",
      "\n",
      "      RoofStyle_Shed  \n",
      "0              False  \n",
      "1              False  \n",
      "2              False  \n",
      "3              False  \n",
      "4              False  \n",
      "...              ...  \n",
      "1017           False  \n",
      "1018           False  \n",
      "1019           False  \n",
      "1020           False  \n",
      "1021           False  \n",
      "\n",
      "[1022 rows x 5 columns]\n",
      "RoofStyle_Gable Correlation with SalePrice: -0.22702959425129804\n",
      "RoofStyle_Gambrel Correlation with SalePrice: -0.03872019924641558\n",
      "RoofStyle_Hip Correlation with SalePrice: 0.23351573783396945\n",
      "RoofStyle_Mansard Correlation with SalePrice: 0.009072496926743006\n",
      "RoofStyle_Shed Correlation with SalePrice: 0.023986756260756602\n"
     ]
    }
   ],
   "source": [
    "inspectCol(categorical_columns[0], DF)\n",
    "DF_with_processed_categorical = process_categorical_column(DF, categorical_columns[0], target_variable='SalePrice')"
   ]
  },
  {
   "cell_type": "code",
   "execution_count": 32,
   "metadata": {},
   "outputs": [
    {
     "name": "stdout",
     "output_type": "stream",
     "text": [
      "Number of continuous features: 36\n",
      "Number of categorical features: 29\n",
      "Total Features: 68\n"
     ]
    }
   ],
   "source": [
    "DF, categorical_columns, numerical_columns = updateDataFrame(DF, 'RoofStyle')\n",
    "droppedCols.append('RoofStyle')"
   ]
  },
  {
   "cell_type": "markdown",
   "metadata": {},
   "source": [
    "# 15"
   ]
  },
  {
   "cell_type": "code",
   "execution_count": 33,
   "metadata": {},
   "outputs": [
    {
     "name": "stdout",
     "output_type": "stream",
     "text": [
      "Inspecting Column: RoofMatl\n",
      "Data Type: object\n",
      "Number of Unique Categories: 7\n",
      "Unique Categories: ['CompShg' 'Metal' 'Tar&Grv' 'WdShake' 'Membran' 'WdShngl' 'ClyTile']\n",
      "Missing Values: 0\n",
      "\n",
      "One-Hot Encoded DataFrame:\n",
      "      RoofMatl_CompShg  RoofMatl_Membran  RoofMatl_Metal  RoofMatl_Tar&Grv  \\\n",
      "0                 True             False           False             False   \n",
      "1                 True             False           False             False   \n",
      "2                 True             False           False             False   \n",
      "3                 True             False           False             False   \n",
      "4                 True             False           False             False   \n",
      "...                ...               ...             ...               ...   \n",
      "1017              True             False           False             False   \n",
      "1018              True             False           False             False   \n",
      "1019              True             False           False             False   \n",
      "1020              True             False           False             False   \n",
      "1021              True             False           False             False   \n",
      "\n",
      "      RoofMatl_WdShake  RoofMatl_WdShngl  \n",
      "0                False             False  \n",
      "1                False             False  \n",
      "2                False             False  \n",
      "3                False             False  \n",
      "4                False             False  \n",
      "...                ...               ...  \n",
      "1017             False             False  \n",
      "1018             False             False  \n",
      "1019             False             False  \n",
      "1020             False             False  \n",
      "1021             False             False  \n",
      "\n",
      "[1022 rows x 6 columns]\n",
      "RoofMatl_CompShg Correlation with SalePrice: -0.09731385453317994\n",
      "RoofMatl_Membran Correlation with SalePrice: 0.02332806228474692\n",
      "RoofMatl_Metal Correlation with SalePrice: -0.0004339442255533523\n",
      "RoofMatl_Tar&Grv Correlation with SalePrice: 0.01776074826799199\n",
      "RoofMatl_WdShake Correlation with SalePrice: 0.04923995013880094\n",
      "RoofMatl_WdShngl Correlation with SalePrice: 0.14695530146114216\n"
     ]
    }
   ],
   "source": [
    "inspectCol(categorical_columns[0], DF)\n",
    "DF_with_processed_categorical = process_categorical_column(DF, categorical_columns[0], target_variable='SalePrice')"
   ]
  },
  {
   "cell_type": "code",
   "execution_count": 34,
   "metadata": {},
   "outputs": [
    {
     "name": "stdout",
     "output_type": "stream",
     "text": [
      "Number of continuous features: 36\n",
      "Number of categorical features: 28\n",
      "Total Features: 67\n"
     ]
    }
   ],
   "source": [
    "DF, categorical_columns, numerical_columns = updateDataFrame(DF, 'RoofMatl')\n",
    "droppedCols.append('RoofMatl')"
   ]
  },
  {
   "cell_type": "markdown",
   "metadata": {},
   "source": [
    "# 16"
   ]
  },
  {
   "cell_type": "code",
   "execution_count": 35,
   "metadata": {},
   "outputs": [
    {
     "name": "stdout",
     "output_type": "stream",
     "text": [
      "Inspecting Column: Exterior1st\n",
      "Data Type: object\n",
      "Number of Unique Categories: 13\n",
      "Unique Categories: ['VinylSd' 'MetalSd' 'Wd Sdng' 'WdShing' 'HdBoard' 'Plywood' 'AsphShn'\n",
      " 'CemntBd' 'BrkFace' 'AsbShng' 'BrkComm' 'Stone' 'Stucco']\n",
      "Missing Values: 0\n",
      "\n",
      "One-Hot Encoded DataFrame:\n",
      "      Exterior1st_AsphShn  Exterior1st_BrkComm  Exterior1st_BrkFace  \\\n",
      "0                   False                False                False   \n",
      "1                   False                False                False   \n",
      "2                   False                False                False   \n",
      "3                   False                False                False   \n",
      "4                   False                False                False   \n",
      "...                   ...                  ...                  ...   \n",
      "1017                False                False                False   \n",
      "1018                False                False                False   \n",
      "1019                False                False                False   \n",
      "1020                False                False                False   \n",
      "1021                False                False                False   \n",
      "\n",
      "      Exterior1st_CemntBd  Exterior1st_HdBoard  Exterior1st_MetalSd  \\\n",
      "0                   False                False                False   \n",
      "1                   False                False                 True   \n",
      "2                   False                False                False   \n",
      "3                   False                False                 True   \n",
      "4                   False                False                False   \n",
      "...                   ...                  ...                  ...   \n",
      "1017                False                False                False   \n",
      "1018                False                False                False   \n",
      "1019                False                False                 True   \n",
      "1020                 True                False                False   \n",
      "1021                False                False                 True   \n",
      "\n",
      "      Exterior1st_Plywood  Exterior1st_Stone  Exterior1st_Stucco  \\\n",
      "0                   False              False               False   \n",
      "1                   False              False               False   \n",
      "2                   False              False               False   \n",
      "3                   False              False               False   \n",
      "4                   False              False               False   \n",
      "...                   ...                ...                 ...   \n",
      "1017                 True              False               False   \n",
      "1018                 True              False               False   \n",
      "1019                False              False               False   \n",
      "1020                False              False               False   \n",
      "1021                False              False               False   \n",
      "\n",
      "      Exterior1st_VinylSd  Exterior1st_Wd Sdng  Exterior1st_WdShing  \n",
      "0                    True                False                False  \n",
      "1                   False                False                False  \n",
      "2                   False                 True                False  \n",
      "3                   False                False                False  \n",
      "4                   False                False                 True  \n",
      "...                   ...                  ...                  ...  \n",
      "1017                False                False                False  \n",
      "1018                False                False                False  \n",
      "1019                False                False                False  \n",
      "1020                False                False                False  \n",
      "1021                False                False                False  \n",
      "\n",
      "[1022 rows x 12 columns]\n",
      "Exterior1st_AsphShn Correlation with SalePrice: -0.031343871393423414\n",
      "Exterior1st_BrkComm Correlation with SalePrice: -0.03829860500619436\n",
      "Exterior1st_BrkFace Correlation with SalePrice: 0.039558200118791305\n",
      "Exterior1st_CemntBd Correlation with SalePrice: 0.15409455801302907\n",
      "Exterior1st_HdBoard Correlation with SalePrice: -0.09857936113897042\n",
      "Exterior1st_MetalSd Correlation with SalePrice: -0.1789336217238715\n",
      "Exterior1st_Plywood Correlation with SalePrice: -0.017746693311537862\n",
      "Exterior1st_Stone Correlation with SalePrice: 0.042300645563431834\n",
      "Exterior1st_Stucco Correlation with SalePrice: -0.049513480830083445\n",
      "Exterior1st_VinylSd Correlation with SalePrice: 0.3046982211800362\n",
      "Exterior1st_Wd Sdng Correlation with SalePrice: -0.15343244649738458\n",
      "Exterior1st_WdShing Correlation with SalePrice: -0.0720178756364541\n"
     ]
    }
   ],
   "source": [
    "inspectCol(categorical_columns[0], DF)\n",
    "DF_with_processed_categorical = process_categorical_column(DF, categorical_columns[0], target_variable='SalePrice')"
   ]
  },
  {
   "cell_type": "code",
   "execution_count": 36,
   "metadata": {},
   "outputs": [
    {
     "name": "stdout",
     "output_type": "stream",
     "text": [
      "Number of continuous features: 36\n",
      "Number of categorical features: 27\n",
      "Total Features: 66\n"
     ]
    }
   ],
   "source": [
    "DF, categorical_columns, numerical_columns = updateDataFrame(DF, 'Exterior1st')\n",
    "droppedCols.append('Exterior1st')"
   ]
  },
  {
   "cell_type": "markdown",
   "metadata": {},
   "source": [
    "# 17"
   ]
  },
  {
   "cell_type": "code",
   "execution_count": 37,
   "metadata": {},
   "outputs": [
    {
     "name": "stdout",
     "output_type": "stream",
     "text": [
      "Inspecting Column: Exterior2nd\n",
      "Data Type: object\n",
      "Number of Unique Categories: 15\n",
      "Unique Categories: ['VinylSd' 'MetalSd' 'Wd Sdng' 'Wd Shng' 'HdBoard' 'Plywood' 'AsphShn'\n",
      " 'CmentBd' 'BrkFace' 'Stone' 'AsbShng' 'Stucco' 'Brk Cmn' 'ImStucc'\n",
      " 'Other']\n",
      "Missing Values: 0\n",
      "\n",
      "One-Hot Encoded DataFrame:\n",
      "      Exterior2nd_AsphShn  Exterior2nd_Brk Cmn  Exterior2nd_BrkFace  \\\n",
      "0                   False                False                False   \n",
      "1                   False                False                False   \n",
      "2                   False                False                False   \n",
      "3                   False                False                False   \n",
      "4                   False                False                False   \n",
      "...                   ...                  ...                  ...   \n",
      "1017                False                 True                False   \n",
      "1018                False                False                False   \n",
      "1019                False                False                False   \n",
      "1020                False                False                False   \n",
      "1021                False                False                False   \n",
      "\n",
      "      Exterior2nd_CmentBd  Exterior2nd_HdBoard  Exterior2nd_ImStucc  \\\n",
      "0                   False                False                False   \n",
      "1                   False                False                False   \n",
      "2                   False                False                False   \n",
      "3                   False                False                False   \n",
      "4                   False                False                False   \n",
      "...                   ...                  ...                  ...   \n",
      "1017                False                False                False   \n",
      "1018                False                False                False   \n",
      "1019                False                False                False   \n",
      "1020                False                False                False   \n",
      "1021                False                False                False   \n",
      "\n",
      "      Exterior2nd_MetalSd  Exterior2nd_Other  Exterior2nd_Plywood  \\\n",
      "0                   False              False                False   \n",
      "1                    True              False                False   \n",
      "2                   False              False                False   \n",
      "3                    True              False                False   \n",
      "4                   False              False                False   \n",
      "...                   ...                ...                  ...   \n",
      "1017                False              False                False   \n",
      "1018                False              False                 True   \n",
      "1019                 True              False                False   \n",
      "1020                False              False                False   \n",
      "1021                 True              False                False   \n",
      "\n",
      "      Exterior2nd_Stone  Exterior2nd_Stucco  Exterior2nd_VinylSd  \\\n",
      "0                 False               False                 True   \n",
      "1                 False               False                False   \n",
      "2                 False               False                False   \n",
      "3                 False               False                False   \n",
      "4                 False               False                False   \n",
      "...                 ...                 ...                  ...   \n",
      "1017              False               False                False   \n",
      "1018              False               False                False   \n",
      "1019              False               False                False   \n",
      "1020              False               False                False   \n",
      "1021              False               False                False   \n",
      "\n",
      "      Exterior2nd_Wd Sdng  Exterior2nd_Wd Shng  \n",
      "0                   False                False  \n",
      "1                   False                False  \n",
      "2                    True                False  \n",
      "3                   False                False  \n",
      "4                   False                 True  \n",
      "...                   ...                  ...  \n",
      "1017                False                False  \n",
      "1018                False                False  \n",
      "1019                False                False  \n",
      "1020                 True                False  \n",
      "1021                False                False  \n",
      "\n",
      "[1022 rows x 14 columns]\n",
      "Exterior2nd_AsphShn Correlation with SalePrice: -0.031343871393423414\n",
      "Exterior2nd_Brk Cmn Correlation with SalePrice: -0.03423501122386768\n",
      "Exterior2nd_BrkFace Correlation with SalePrice: 0.04544464930074403\n",
      "Exterior2nd_CmentBd Correlation with SalePrice: 0.1366412817379634\n",
      "Exterior2nd_HdBoard Correlation with SalePrice: -0.07365504522760763\n",
      "Exterior2nd_ImStucc Correlation with SalePrice: 0.08121315458548882\n",
      "Exterior2nd_MetalSd Correlation with SalePrice: -0.1763837649357497\n",
      "Exterior2nd_Other Correlation with SalePrice: 0.053272054228622044\n",
      "Exterior2nd_Plywood Correlation with SalePrice: -0.06035411187746448\n",
      "Exterior2nd_Stone Correlation with SalePrice: -0.025923724555947773\n",
      "Exterior2nd_Stucco Correlation with SalePrice: -0.040243053821192115\n",
      "Exterior2nd_VinylSd Correlation with SalePrice: 0.3131034421459651\n",
      "Exterior2nd_Wd Sdng Correlation with SalePrice: -0.15564291428228777\n",
      "Exterior2nd_Wd Shng Correlation with SalePrice: -0.05793944301542669\n"
     ]
    }
   ],
   "source": [
    "inspectCol(categorical_columns[0], DF)\n",
    "DF_with_processed_categorical = process_categorical_column(DF, categorical_columns[0], target_variable='SalePrice')"
   ]
  },
  {
   "cell_type": "code",
   "execution_count": 38,
   "metadata": {},
   "outputs": [
    {
     "name": "stdout",
     "output_type": "stream",
     "text": [
      "Number of continuous features: 36\n",
      "Number of categorical features: 26\n",
      "Total Features: 65\n"
     ]
    }
   ],
   "source": [
    "DF, categorical_columns, numerical_columns = updateDataFrame(DF, 'Exterior2nd')\n",
    "droppedCols.append('Exterior2nd')"
   ]
  },
  {
   "cell_type": "markdown",
   "metadata": {},
   "source": [
    "# 18"
   ]
  },
  {
   "cell_type": "code",
   "execution_count": 39,
   "metadata": {},
   "outputs": [
    {
     "name": "stdout",
     "output_type": "stream",
     "text": [
      "Inspecting Column: MasVnrType\n",
      "Data Type: object\n",
      "Number of Unique Categories: 4\n",
      "Unique Categories: ['BrkFace' nan 'Stone' 'BrkCmn']\n",
      "Missing Values: 614\n",
      "\n",
      "Missing rate of MasVnrType: 0.6007827788649707\n",
      "One-Hot Encoded DataFrame:\n",
      "      MasVnrType_BrkFace  MasVnrType_Stone\n",
      "0                   True             False\n",
      "1                  False             False\n",
      "2                   True             False\n",
      "3                  False             False\n",
      "4                  False             False\n",
      "...                  ...               ...\n",
      "1017               False             False\n",
      "1018                True             False\n",
      "1019               False             False\n",
      "1020               False             False\n",
      "1021               False             False\n",
      "\n",
      "[1022 rows x 2 columns]\n",
      "MasVnrType_BrkFace Correlation with SalePrice: 0.18892147435530043\n",
      "MasVnrType_Stone Correlation with SalePrice: 0.3428427445112777\n"
     ]
    }
   ],
   "source": [
    "inspectCol(categorical_columns[0], DF)\n",
    "percentMissing(categorical_columns[0], DF)\n",
    "DF_with_processed_categorical = process_categorical_column(DF, categorical_columns[0], target_variable='SalePrice')"
   ]
  },
  {
   "cell_type": "code",
   "execution_count": 40,
   "metadata": {},
   "outputs": [
    {
     "name": "stdout",
     "output_type": "stream",
     "text": [
      "Number of continuous features: 36\n",
      "Number of categorical features: 25\n",
      "Total Features: 64\n"
     ]
    }
   ],
   "source": [
    "DF, categorical_columns, numerical_columns = updateDataFrame(DF, 'MasVnrType')\n",
    "droppedCols.append('MasVnrType')"
   ]
  },
  {
   "cell_type": "markdown",
   "metadata": {},
   "source": [
    "# 19"
   ]
  },
  {
   "cell_type": "code",
   "execution_count": 41,
   "metadata": {},
   "outputs": [
    {
     "name": "stdout",
     "output_type": "stream",
     "text": [
      "Inspecting Column: ExterQual\n",
      "Data Type: object\n",
      "Number of Unique Categories: 4\n",
      "Unique Categories: ['TA' 'Gd' 'Ex' 'Fa']\n",
      "Missing Values: 0\n",
      "\n",
      "One-Hot Encoded DataFrame:\n",
      "      ExterQual_Fa  ExterQual_Gd  ExterQual_TA\n",
      "0            False         False          True\n",
      "1            False         False          True\n",
      "2            False         False          True\n",
      "3            False          True         False\n",
      "4            False         False          True\n",
      "...            ...           ...           ...\n",
      "1017         False         False          True\n",
      "1018         False         False          True\n",
      "1019         False         False          True\n",
      "1020         False         False          True\n",
      "1021         False         False          True\n",
      "\n",
      "[1022 rows x 3 columns]\n",
      "ExterQual_Fa Correlation with SalePrice: -0.1278527185612707\n",
      "ExterQual_Gd Correlation with SalePrice: 0.4222712640461679\n",
      "ExterQual_TA Correlation with SalePrice: -0.5801338456840202\n"
     ]
    }
   ],
   "source": [
    "inspectCol(categorical_columns[0], DF)\n",
    "DF_with_processed_categorical = process_categorical_column(DF, categorical_columns[0], target_variable='SalePrice')"
   ]
  },
  {
   "cell_type": "markdown",
   "metadata": {},
   "source": [
    "found one! add ExterQual_TA to the DF"
   ]
  },
  {
   "cell_type": "code",
   "execution_count": 42,
   "metadata": {},
   "outputs": [
    {
     "name": "stdout",
     "output_type": "stream",
     "text": [
      "Number of continuous features: 36\n",
      "Number of categorical features: 24\n",
      "Total Features: 64\n"
     ]
    }
   ],
   "source": [
    "DF['ExterQual_TA'] = DF_with_processed_categorical['ExterQual_TA'] #add the new col\n",
    "DF, categorical_columns, numerical_columns = updateDataFrame(DF, 'ExterQual') #drop the old one \n",
    "droppedCols.append('ExterQual_Gd')\n",
    "droppedCols.append('ExterQual_Fa')"
   ]
  },
  {
   "cell_type": "markdown",
   "metadata": {},
   "source": [
    "# 20"
   ]
  },
  {
   "cell_type": "code",
   "execution_count": 43,
   "metadata": {},
   "outputs": [
    {
     "name": "stdout",
     "output_type": "stream",
     "text": [
      "Inspecting Column: ExterCond\n",
      "Data Type: object\n",
      "Number of Unique Categories: 5\n",
      "Unique Categories: ['TA' 'Gd' 'Fa' 'Ex' 'Po']\n",
      "Missing Values: 0\n",
      "\n",
      "One-Hot Encoded DataFrame:\n",
      "      ExterCond_Fa  ExterCond_Gd  ExterCond_Po  ExterCond_TA\n",
      "0            False         False         False          True\n",
      "1            False         False         False          True\n",
      "2            False         False         False          True\n",
      "3            False         False         False          True\n",
      "4            False         False         False          True\n",
      "...            ...           ...           ...           ...\n",
      "1017         False         False         False          True\n",
      "1018         False         False         False          True\n",
      "1019         False         False         False          True\n",
      "1020         False         False         False          True\n",
      "1021         False         False         False          True\n",
      "\n",
      "[1022 rows x 4 columns]\n",
      "ExterCond_Fa Correlation with SalePrice: -0.15190109870504123\n",
      "ExterCond_Gd Correlation with SalePrice: -0.06935585129540528\n",
      "ExterCond_Po Correlation with SalePrice: -0.04042366249898657\n",
      "ExterCond_TA Correlation with SalePrice: 0.1296903881437069\n"
     ]
    }
   ],
   "source": [
    "inspectCol(categorical_columns[0], DF)\n",
    "DF_with_processed_categorical = process_categorical_column(DF, categorical_columns[0], target_variable='SalePrice')"
   ]
  },
  {
   "cell_type": "code",
   "execution_count": 44,
   "metadata": {},
   "outputs": [
    {
     "name": "stdout",
     "output_type": "stream",
     "text": [
      "Number of continuous features: 36\n",
      "Number of categorical features: 23\n",
      "Total Features: 63\n"
     ]
    }
   ],
   "source": [
    "DF, categorical_columns, numerical_columns = updateDataFrame(DF, 'ExterCond')\n",
    "droppedCols.append('ExterCond')"
   ]
  },
  {
   "cell_type": "markdown",
   "metadata": {},
   "source": [
    "# 21"
   ]
  },
  {
   "cell_type": "code",
   "execution_count": 45,
   "metadata": {},
   "outputs": [
    {
     "name": "stdout",
     "output_type": "stream",
     "text": [
      "Inspecting Column: Foundation\n",
      "Data Type: object\n",
      "Number of Unique Categories: 6\n",
      "Unique Categories: ['PConc' 'CBlock' 'BrkTil' 'Slab' 'Stone' 'Wood']\n",
      "Missing Values: 0\n",
      "\n",
      "One-Hot Encoded DataFrame:\n",
      "      Foundation_CBlock  Foundation_PConc  Foundation_Slab  Foundation_Stone  \\\n",
      "0                 False              True            False             False   \n",
      "1                  True             False            False             False   \n",
      "2                  True             False            False             False   \n",
      "3                 False              True            False             False   \n",
      "4                  True             False            False             False   \n",
      "...                 ...               ...              ...               ...   \n",
      "1017               True             False            False             False   \n",
      "1018              False              True            False             False   \n",
      "1019              False             False             True             False   \n",
      "1020               True             False            False             False   \n",
      "1021               True             False            False             False   \n",
      "\n",
      "      Foundation_Wood  \n",
      "0               False  \n",
      "1               False  \n",
      "2               False  \n",
      "3               False  \n",
      "4               False  \n",
      "...               ...  \n",
      "1017            False  \n",
      "1018            False  \n",
      "1019            False  \n",
      "1020            False  \n",
      "1021            False  \n",
      "\n",
      "[1022 rows x 5 columns]\n",
      "Foundation_CBlock Correlation with SalePrice: -0.34656515806414256\n",
      "Foundation_PConc Correlation with SalePrice: 0.515244295221521\n",
      "Foundation_Slab Correlation with SalePrice: -0.13051861249708913\n",
      "Foundation_Stone Correlation with SalePrice: -0.00828264979330829\n",
      "Foundation_Wood Correlation with SalePrice: 0.014146457530960898\n"
     ]
    }
   ],
   "source": [
    "inspectCol(categorical_columns[0], DF)\n",
    "DF_with_processed_categorical = process_categorical_column(DF, categorical_columns[0], target_variable='SalePrice')"
   ]
  },
  {
   "cell_type": "code",
   "execution_count": 46,
   "metadata": {},
   "outputs": [
    {
     "name": "stdout",
     "output_type": "stream",
     "text": [
      "Number of continuous features: 36\n",
      "Number of categorical features: 22\n",
      "Total Features: 63\n"
     ]
    }
   ],
   "source": [
    "DF['Foundation_PConc'] = DF_with_processed_categorical['Foundation_PConc']\n",
    "DF, categorical_columns, numerical_columns = updateDataFrame(DF, 'Foundation') #drop the old one \n",
    "droppedCols.append('Foundation_CBlock')\n",
    "droppedCols.append('Foundation_Slab')\n",
    "droppedCols.append('Foundation_Stone')\n",
    "droppedCols.append('Foundation_Wood')"
   ]
  },
  {
   "cell_type": "markdown",
   "metadata": {},
   "source": [
    "# 22"
   ]
  },
  {
   "cell_type": "markdown",
   "metadata": {},
   "source": [
    "Removing missing values because there are so few"
   ]
  },
  {
   "cell_type": "code",
   "execution_count": 47,
   "metadata": {},
   "outputs": [
    {
     "name": "stdout",
     "output_type": "stream",
     "text": [
      "Inspecting Column: BsmtQual\n",
      "Data Type: object\n",
      "Number of Unique Categories: 5\n",
      "Unique Categories: ['Gd' 'TA' nan 'Ex' 'Fa']\n",
      "Missing Values: 29\n",
      "\n",
      "Missing rate of BsmtQual: 0.02837573385518591\n",
      "Missing rate of BsmtQual: 0.0\n",
      "One-Hot Encoded DataFrame:\n",
      "      BsmtQual_Fa  BsmtQual_Gd  BsmtQual_TA\n",
      "0           False         True        False\n",
      "1           False        False         True\n",
      "2           False        False         True\n",
      "3           False         True        False\n",
      "4           False        False         True\n",
      "...           ...          ...          ...\n",
      "1016        False        False         True\n",
      "1017        False         True        False\n",
      "1018        False        False         True\n",
      "1020        False        False         True\n",
      "1021        False        False         True\n",
      "\n",
      "[993 rows x 3 columns]\n",
      "BsmtQual_Fa Correlation with SalePrice: -0.14076227732592225\n",
      "BsmtQual_Gd Correlation with SalePrice: 0.2167438282976727\n",
      "BsmtQual_TA Correlation with SalePrice: -0.48842221206948677\n"
     ]
    }
   ],
   "source": [
    "inspectCol(categorical_columns[0], DF)\n",
    "percentMissing(categorical_columns[0], DF)\n",
    "DF = DF.dropna(subset=['BsmtQual'])\n",
    "percentMissing(categorical_columns[0], DF)\n",
    "DF_with_processed_categorical = process_categorical_column(DF, categorical_columns[0], target_variable='SalePrice')"
   ]
  },
  {
   "cell_type": "code",
   "execution_count": 48,
   "metadata": {},
   "outputs": [
    {
     "name": "stdout",
     "output_type": "stream",
     "text": [
      "Number of continuous features: 36\n",
      "Number of categorical features: 21\n",
      "Total Features: 62\n"
     ]
    }
   ],
   "source": [
    "DF, categorical_columns, numerical_columns = updateDataFrame(DF, 'BsmtQual')\n",
    "droppedCols.append('BsmtQual')"
   ]
  },
  {
   "cell_type": "markdown",
   "metadata": {},
   "source": [
    "# 23"
   ]
  },
  {
   "cell_type": "code",
   "execution_count": 49,
   "metadata": {},
   "outputs": [
    {
     "name": "stdout",
     "output_type": "stream",
     "text": [
      "Inspecting Column: BsmtCond\n",
      "Data Type: object\n",
      "Number of Unique Categories: 4\n",
      "Unique Categories: ['TA' 'Gd' 'Fa' 'Po']\n",
      "Missing Values: 0\n",
      "\n",
      "One-Hot Encoded DataFrame:\n",
      "      BsmtCond_Gd  BsmtCond_Po  BsmtCond_TA\n",
      "0           False        False         True\n",
      "1           False        False         True\n",
      "2           False        False         True\n",
      "3           False        False         True\n",
      "4           False        False         True\n",
      "...           ...          ...          ...\n",
      "1016        False        False         True\n",
      "1017        False        False         True\n",
      "1018        False        False         True\n",
      "1020        False        False         True\n",
      "1021        False        False         True\n",
      "\n",
      "[993 rows x 3 columns]\n",
      "BsmtCond_Gd Correlation with SalePrice: 0.07166047403638387\n",
      "BsmtCond_Po Correlation with SalePrice: -0.06617021667973803\n",
      "BsmtCond_TA Correlation with SalePrice: 0.0443161917096095\n"
     ]
    }
   ],
   "source": [
    "inspectCol(categorical_columns[0], DF)\n",
    "DF_with_processed_categorical = process_categorical_column(DF, categorical_columns[0], target_variable='SalePrice')"
   ]
  },
  {
   "cell_type": "code",
   "execution_count": 50,
   "metadata": {},
   "outputs": [
    {
     "name": "stdout",
     "output_type": "stream",
     "text": [
      "Number of continuous features: 36\n",
      "Number of categorical features: 20\n",
      "Total Features: 61\n"
     ]
    }
   ],
   "source": [
    "DF, categorical_columns, numerical_columns = updateDataFrame(DF, 'BsmtCond')\n",
    "droppedCols.append('BsmtCond')"
   ]
  },
  {
   "cell_type": "markdown",
   "metadata": {},
   "source": [
    "# 24"
   ]
  },
  {
   "cell_type": "code",
   "execution_count": 51,
   "metadata": {},
   "outputs": [
    {
     "name": "stdout",
     "output_type": "stream",
     "text": [
      "Inspecting Column: BsmtExposure\n",
      "Data Type: object\n",
      "Number of Unique Categories: 5\n",
      "Unique Categories: ['No' 'Mn' 'Gd' 'Av' nan]\n",
      "Missing Values: 1\n",
      "\n",
      "Missing rate of BsmtExposure: 0.0010070493454179255\n",
      "Missing rate of BsmtExposure: 0.0\n",
      "One-Hot Encoded DataFrame:\n",
      "      BsmtExposure_Gd  BsmtExposure_Mn  BsmtExposure_No\n",
      "0               False            False             True\n",
      "1               False             True            False\n",
      "2                True            False            False\n",
      "3               False            False             True\n",
      "4               False            False             True\n",
      "...               ...              ...              ...\n",
      "1016            False            False             True\n",
      "1017            False            False             True\n",
      "1018            False            False             True\n",
      "1020            False            False             True\n",
      "1021            False            False             True\n",
      "\n",
      "[992 rows x 3 columns]\n",
      "BsmtExposure_Gd Correlation with SalePrice: 0.29754831811110805\n",
      "BsmtExposure_Mn Correlation with SalePrice: 0.02673890076220268\n",
      "BsmtExposure_No Correlation with SalePrice: -0.3007446479187452\n"
     ]
    }
   ],
   "source": [
    "inspectCol(categorical_columns[0], DF)\n",
    "percentMissing(categorical_columns[0], DF)\n",
    "DF = DF.dropna(subset=['BsmtExposure'])\n",
    "percentMissing(categorical_columns[0], DF)\n",
    "DF_with_processed_categorical = process_categorical_column(DF, categorical_columns[0], target_variable='SalePrice')"
   ]
  },
  {
   "cell_type": "code",
   "execution_count": 52,
   "metadata": {},
   "outputs": [
    {
     "name": "stdout",
     "output_type": "stream",
     "text": [
      "Number of continuous features: 36\n",
      "Number of categorical features: 19\n",
      "Total Features: 60\n"
     ]
    }
   ],
   "source": [
    "DF, categorical_columns, numerical_columns = updateDataFrame(DF, 'BsmtExposure')\n",
    "droppedCols.append('BsmtExposure')"
   ]
  },
  {
   "cell_type": "markdown",
   "metadata": {},
   "source": [
    "# 25"
   ]
  },
  {
   "cell_type": "code",
   "execution_count": 53,
   "metadata": {},
   "outputs": [
    {
     "name": "stdout",
     "output_type": "stream",
     "text": [
      "Inspecting Column: BsmtFinType1\n",
      "Data Type: object\n",
      "Number of Unique Categories: 6\n",
      "Unique Categories: ['GLQ' 'Unf' 'Rec' 'LwQ' 'BLQ' 'ALQ']\n",
      "Missing Values: 0\n",
      "\n",
      "One-Hot Encoded DataFrame:\n",
      "      BsmtFinType1_BLQ  BsmtFinType1_GLQ  BsmtFinType1_LwQ  BsmtFinType1_Rec  \\\n",
      "0                False              True             False             False   \n",
      "1                False             False             False             False   \n",
      "2                False             False             False              True   \n",
      "3                False              True             False             False   \n",
      "4                False              True             False             False   \n",
      "...                ...               ...               ...               ...   \n",
      "1016             False             False             False              True   \n",
      "1017             False             False             False             False   \n",
      "1018             False             False             False             False   \n",
      "1020             False             False             False              True   \n",
      "1021             False             False             False              True   \n",
      "\n",
      "      BsmtFinType1_Unf  \n",
      "0                False  \n",
      "1                 True  \n",
      "2                False  \n",
      "3                False  \n",
      "4                False  \n",
      "...                ...  \n",
      "1016             False  \n",
      "1017             False  \n",
      "1018              True  \n",
      "1020             False  \n",
      "1021             False  \n",
      "\n",
      "[992 rows x 5 columns]\n",
      "BsmtFinType1_BLQ Correlation with SalePrice: -0.13506381937297515\n",
      "BsmtFinType1_GLQ Correlation with SalePrice: 0.42868999077949416\n",
      "BsmtFinType1_LwQ Correlation with SalePrice: -0.09728616880907667\n",
      "BsmtFinType1_Rec Correlation with SalePrice: -0.14833713330642262\n",
      "BsmtFinType1_Unf Correlation with SalePrice: -0.114903161691108\n"
     ]
    }
   ],
   "source": [
    "inspectCol(categorical_columns[0], DF)\n",
    "DF_with_processed_categorical = process_categorical_column(DF, categorical_columns[0], target_variable='SalePrice')"
   ]
  },
  {
   "cell_type": "code",
   "execution_count": 54,
   "metadata": {},
   "outputs": [
    {
     "name": "stdout",
     "output_type": "stream",
     "text": [
      "Number of continuous features: 36\n",
      "Number of categorical features: 18\n",
      "Total Features: 59\n"
     ]
    }
   ],
   "source": [
    "DF, categorical_columns, numerical_columns = updateDataFrame(DF, 'BsmtFinType1')\n",
    "droppedCols.append('BsmtFinType1')"
   ]
  },
  {
   "cell_type": "markdown",
   "metadata": {},
   "source": [
    "# 26"
   ]
  },
  {
   "cell_type": "code",
   "execution_count": 55,
   "metadata": {},
   "outputs": [
    {
     "name": "stdout",
     "output_type": "stream",
     "text": [
      "Inspecting Column: BsmtFinType2\n",
      "Data Type: object\n",
      "Number of Unique Categories: 7\n",
      "Unique Categories: ['Unf' 'ALQ' 'BLQ' 'GLQ' 'Rec' 'LwQ' nan]\n",
      "Missing Values: 1\n",
      "\n",
      "Missing rate of BsmtFinType2: 0.0010080645161290322\n",
      "Missing rate of BsmtFinType2: 0.0\n",
      "One-Hot Encoded DataFrame:\n",
      "      BsmtFinType2_BLQ  BsmtFinType2_GLQ  BsmtFinType2_LwQ  BsmtFinType2_Rec  \\\n",
      "0                False             False             False             False   \n",
      "1                False             False             False             False   \n",
      "2                False             False             False             False   \n",
      "3                False             False             False             False   \n",
      "4                False             False             False             False   \n",
      "...                ...               ...               ...               ...   \n",
      "1016             False             False             False             False   \n",
      "1017             False             False             False             False   \n",
      "1018             False             False             False             False   \n",
      "1020             False             False             False             False   \n",
      "1021              True             False             False             False   \n",
      "\n",
      "      BsmtFinType2_Unf  \n",
      "0                 True  \n",
      "1                 True  \n",
      "2                False  \n",
      "3                 True  \n",
      "4                 True  \n",
      "...                ...  \n",
      "1016              True  \n",
      "1017              True  \n",
      "1018              True  \n",
      "1020              True  \n",
      "1021             False  \n",
      "\n",
      "[991 rows x 5 columns]\n",
      "BsmtFinType2_BLQ Correlation with SalePrice: -0.05240556045951993\n",
      "BsmtFinType2_GLQ Correlation with SalePrice: 0.005078600158766707\n",
      "BsmtFinType2_LwQ Correlation with SalePrice: -0.036505396658213396\n",
      "BsmtFinType2_Rec Correlation with SalePrice: -0.03939023168924855\n",
      "BsmtFinType2_Unf Correlation with SalePrice: 0.05673157432521861\n"
     ]
    }
   ],
   "source": [
    "inspectCol(categorical_columns[0], DF)\n",
    "percentMissing(categorical_columns[0], DF)\n",
    "DF = DF.dropna(subset=['BsmtFinType2'])\n",
    "percentMissing(categorical_columns[0], DF)\n",
    "DF_with_processed_categorical = process_categorical_column(DF, categorical_columns[0], target_variable='SalePrice')"
   ]
  },
  {
   "cell_type": "code",
   "execution_count": 56,
   "metadata": {},
   "outputs": [
    {
     "name": "stdout",
     "output_type": "stream",
     "text": [
      "Number of continuous features: 36\n",
      "Number of categorical features: 17\n",
      "Total Features: 58\n"
     ]
    }
   ],
   "source": [
    "DF, categorical_columns, numerical_columns = updateDataFrame(DF, 'BsmtFinType2')\n",
    "droppedCols.append('BsmtFinType2')"
   ]
  },
  {
   "cell_type": "markdown",
   "metadata": {},
   "source": [
    "# 27"
   ]
  },
  {
   "cell_type": "code",
   "execution_count": 57,
   "metadata": {},
   "outputs": [
    {
     "name": "stdout",
     "output_type": "stream",
     "text": [
      "Inspecting Column: Heating\n",
      "Data Type: object\n",
      "Number of Unique Categories: 4\n",
      "Unique Categories: ['GasA' 'Grav' 'GasW' 'OthW']\n",
      "Missing Values: 0\n",
      "\n",
      "One-Hot Encoded DataFrame:\n",
      "      Heating_GasW  Heating_Grav  Heating_OthW\n",
      "0            False         False         False\n",
      "1            False         False         False\n",
      "2            False         False         False\n",
      "3            False         False         False\n",
      "4            False         False         False\n",
      "...            ...           ...           ...\n",
      "1016         False         False         False\n",
      "1017         False         False         False\n",
      "1018         False         False         False\n",
      "1020         False         False         False\n",
      "1021         False         False         False\n",
      "\n",
      "[991 rows x 3 columns]\n",
      "Heating_GasW Correlation with SalePrice: -0.01506347367794061\n",
      "Heating_Grav Correlation with SalePrice: -0.10663215994905462\n",
      "Heating_OthW Correlation with SalePrice: -0.0318813186480591\n"
     ]
    }
   ],
   "source": [
    "inspectCol(categorical_columns[0], DF)\n",
    "DF_with_processed_categorical = process_categorical_column(DF, categorical_columns[0], target_variable='SalePrice')"
   ]
  },
  {
   "cell_type": "code",
   "execution_count": 58,
   "metadata": {},
   "outputs": [
    {
     "name": "stdout",
     "output_type": "stream",
     "text": [
      "Number of continuous features: 36\n",
      "Number of categorical features: 16\n",
      "Total Features: 57\n"
     ]
    }
   ],
   "source": [
    "DF, categorical_columns, numerical_columns = updateDataFrame(DF, 'Heating')\n",
    "droppedCols.append('Heating')"
   ]
  },
  {
   "cell_type": "markdown",
   "metadata": {},
   "source": [
    "# 28"
   ]
  },
  {
   "cell_type": "code",
   "execution_count": 59,
   "metadata": {},
   "outputs": [
    {
     "name": "stdout",
     "output_type": "stream",
     "text": [
      "Inspecting Column: HeatingQC\n",
      "Data Type: object\n",
      "Number of Unique Categories: 5\n",
      "Unique Categories: ['Ex' 'TA' 'Gd' 'Fa' 'Po']\n",
      "Missing Values: 0\n",
      "\n",
      "One-Hot Encoded DataFrame:\n",
      "      HeatingQC_Fa  HeatingQC_Gd  HeatingQC_Po  HeatingQC_TA\n",
      "0            False         False         False         False\n",
      "1            False         False         False          True\n",
      "2            False         False         False          True\n",
      "3            False         False         False         False\n",
      "4            False         False         False          True\n",
      "...            ...           ...           ...           ...\n",
      "1016         False         False         False         False\n",
      "1017         False         False         False          True\n",
      "1018         False          True         False         False\n",
      "1020         False          True         False         False\n",
      "1021         False          True         False         False\n",
      "\n",
      "[991 rows x 4 columns]\n",
      "HeatingQC_Fa Correlation with SalePrice: -0.12311185420022484\n",
      "HeatingQC_Gd Correlation with SalePrice: -0.14133066165032382\n",
      "HeatingQC_Po Correlation with SalePrice: -0.03773531475320138\n",
      "HeatingQC_TA Correlation with SalePrice: -0.2941414461250137\n"
     ]
    }
   ],
   "source": [
    "inspectCol(categorical_columns[0], DF)\n",
    "DF_with_processed_categorical = process_categorical_column(DF, categorical_columns[0], target_variable='SalePrice')"
   ]
  },
  {
   "cell_type": "code",
   "execution_count": 60,
   "metadata": {},
   "outputs": [
    {
     "name": "stdout",
     "output_type": "stream",
     "text": [
      "Number of continuous features: 36\n",
      "Number of categorical features: 15\n",
      "Total Features: 56\n"
     ]
    }
   ],
   "source": [
    "DF, categorical_columns, numerical_columns = updateDataFrame(DF, 'HeatingQC')\n",
    "droppedCols.append('HeatingQC')"
   ]
  },
  {
   "cell_type": "code",
   "execution_count": 61,
   "metadata": {},
   "outputs": [
    {
     "name": "stdout",
     "output_type": "stream",
     "text": [
      "Inspecting Column: CentralAir\n",
      "Data Type: object\n",
      "Number of Unique Categories: 2\n",
      "Unique Categories: ['Y' 'N']\n",
      "Missing Values: 0\n",
      "\n",
      "One-Hot Encoded DataFrame:\n",
      "      CentralAir_Y\n",
      "0             True\n",
      "1             True\n",
      "2             True\n",
      "3             True\n",
      "4             True\n",
      "...            ...\n",
      "1016          True\n",
      "1017          True\n",
      "1018          True\n",
      "1020          True\n",
      "1021          True\n",
      "\n",
      "[991 rows x 1 columns]\n",
      "CentralAir_Y Correlation with SalePrice: 0.24614751504296462\n"
     ]
    }
   ],
   "source": [
    "# 29\n",
    "inspectCol(categorical_columns[0], DF)\n",
    "DF_with_processed_categorical = process_categorical_column(DF, categorical_columns[0], target_variable='SalePrice')"
   ]
  },
  {
   "cell_type": "code",
   "execution_count": 62,
   "metadata": {},
   "outputs": [
    {
     "name": "stdout",
     "output_type": "stream",
     "text": [
      "Number of continuous features: 36\n",
      "Number of categorical features: 14\n",
      "Total Features: 55\n"
     ]
    }
   ],
   "source": [
    "DF, categorical_columns, numerical_columns = updateDataFrame(DF, 'CentralAir')\n",
    "droppedCols.append('CentralAir')"
   ]
  },
  {
   "cell_type": "markdown",
   "metadata": {},
   "source": [
    "# 30"
   ]
  },
  {
   "cell_type": "code",
   "execution_count": 63,
   "metadata": {},
   "outputs": [
    {
     "name": "stdout",
     "output_type": "stream",
     "text": [
      "Inspecting Column: Electrical\n",
      "Data Type: object\n",
      "Number of Unique Categories: 5\n",
      "Unique Categories: ['SBrkr' 'FuseA' 'Mix' 'FuseF' 'FuseP']\n",
      "Missing Values: 0\n",
      "\n",
      "One-Hot Encoded DataFrame:\n",
      "      Electrical_FuseF  Electrical_FuseP  Electrical_Mix  Electrical_SBrkr\n",
      "0                False             False           False              True\n",
      "1                False             False           False              True\n",
      "2                False             False           False              True\n",
      "3                False             False           False              True\n",
      "4                False             False           False             False\n",
      "...                ...               ...             ...               ...\n",
      "1016             False             False           False              True\n",
      "1017             False             False           False              True\n",
      "1018             False             False           False              True\n",
      "1020             False             False           False              True\n",
      "1021             False             False           False              True\n",
      "\n",
      "[991 rows x 4 columns]\n",
      "Electrical_FuseF Correlation with SalePrice: -0.0984449396426194\n",
      "Electrical_FuseP Correlation with SalePrice: -0.043400352153838785\n",
      "Electrical_Mix Correlation with SalePrice: -0.045582131075753034\n",
      "Electrical_SBrkr Correlation with SalePrice: 0.23830351099711242\n"
     ]
    }
   ],
   "source": [
    "inspectCol(categorical_columns[0], DF)\n",
    "DF_with_processed_categorical = process_categorical_column(DF, categorical_columns[0], target_variable='SalePrice')"
   ]
  },
  {
   "cell_type": "code",
   "execution_count": 64,
   "metadata": {},
   "outputs": [
    {
     "name": "stdout",
     "output_type": "stream",
     "text": [
      "Number of continuous features: 36\n",
      "Number of categorical features: 13\n",
      "Total Features: 54\n"
     ]
    }
   ],
   "source": [
    "DF, categorical_columns, numerical_columns = updateDataFrame(DF, 'Electrical')\n",
    "droppedCols.append('Electrical')"
   ]
  },
  {
   "cell_type": "markdown",
   "metadata": {},
   "source": [
    "# 31"
   ]
  },
  {
   "cell_type": "code",
   "execution_count": 65,
   "metadata": {},
   "outputs": [
    {
     "name": "stdout",
     "output_type": "stream",
     "text": [
      "Inspecting Column: KitchenQual\n",
      "Data Type: object\n",
      "Number of Unique Categories: 4\n",
      "Unique Categories: ['Gd' 'TA' 'Fa' 'Ex']\n",
      "Missing Values: 0\n",
      "\n",
      "One-Hot Encoded DataFrame:\n",
      "      KitchenQual_Fa  KitchenQual_Gd  KitchenQual_TA\n",
      "0              False            True           False\n",
      "1              False           False            True\n",
      "2              False           False            True\n",
      "3              False            True           False\n",
      "4              False           False            True\n",
      "...              ...             ...             ...\n",
      "1016           False           False            True\n",
      "1017           False            True           False\n",
      "1018           False           False            True\n",
      "1020           False           False            True\n",
      "1021           False           False            True\n",
      "\n",
      "[991 rows x 3 columns]\n",
      "KitchenQual_Fa Correlation with SalePrice: -0.15789326890842414\n",
      "KitchenQual_Gd Correlation with SalePrice: 0.2822362503032197\n",
      "KitchenQual_TA Correlation with SalePrice: -0.5014050873160931\n"
     ]
    }
   ],
   "source": [
    "inspectCol(categorical_columns[0], DF)\n",
    "DF_with_processed_categorical = process_categorical_column(DF, categorical_columns[0], target_variable='SalePrice')"
   ]
  },
  {
   "cell_type": "code",
   "execution_count": 66,
   "metadata": {},
   "outputs": [
    {
     "name": "stdout",
     "output_type": "stream",
     "text": [
      "Number of continuous features: 36\n",
      "Number of categorical features: 12\n",
      "Total Features: 54\n"
     ]
    }
   ],
   "source": [
    "DF['KitchenQual_TA'] = DF_with_processed_categorical['KitchenQual_TA']\n",
    "DF, categorical_columns, numerical_columns = updateDataFrame(DF, 'KitchenQual')\n",
    "droppedCols.append('KitchenQual')\n"
   ]
  },
  {
   "cell_type": "markdown",
   "metadata": {},
   "source": [
    "# 32"
   ]
  },
  {
   "cell_type": "code",
   "execution_count": 67,
   "metadata": {},
   "outputs": [
    {
     "name": "stdout",
     "output_type": "stream",
     "text": [
      "Inspecting Column: Functional\n",
      "Data Type: object\n",
      "Number of Unique Categories: 6\n",
      "Unique Categories: ['Typ' 'Min1' 'Mod' 'Maj1' 'Maj2' 'Min2']\n",
      "Missing Values: 0\n",
      "\n",
      "One-Hot Encoded DataFrame:\n",
      "      Functional_Maj2  Functional_Min1  Functional_Min2  Functional_Mod  \\\n",
      "0               False            False            False           False   \n",
      "1               False            False            False           False   \n",
      "2               False            False            False           False   \n",
      "3               False            False            False           False   \n",
      "4               False            False            False           False   \n",
      "...               ...              ...              ...             ...   \n",
      "1016            False            False            False           False   \n",
      "1017            False            False            False           False   \n",
      "1018            False            False            False           False   \n",
      "1020            False            False             True           False   \n",
      "1021            False            False            False           False   \n",
      "\n",
      "      Functional_Typ  \n",
      "0               True  \n",
      "1               True  \n",
      "2               True  \n",
      "3               True  \n",
      "4               True  \n",
      "...              ...  \n",
      "1016            True  \n",
      "1017            True  \n",
      "1018            True  \n",
      "1020           False  \n",
      "1021            True  \n",
      "\n",
      "[991 rows x 5 columns]\n",
      "Functional_Maj2 Correlation with SalePrice: -0.08560460345483825\n",
      "Functional_Min1 Correlation with SalePrice: -0.05458971167925791\n",
      "Functional_Min2 Correlation with SalePrice: -0.05248255728930653\n",
      "Functional_Mod Correlation with SalePrice: 0.022824359165370112\n",
      "Functional_Typ Correlation with SalePrice: 0.0966828768572818\n"
     ]
    }
   ],
   "source": [
    "inspectCol(categorical_columns[0], DF)\n",
    "DF_with_processed_categorical = process_categorical_column(DF, categorical_columns[0], target_variable='SalePrice')"
   ]
  },
  {
   "cell_type": "code",
   "execution_count": 68,
   "metadata": {},
   "outputs": [
    {
     "name": "stdout",
     "output_type": "stream",
     "text": [
      "Number of continuous features: 36\n",
      "Number of categorical features: 11\n",
      "Total Features: 53\n"
     ]
    }
   ],
   "source": [
    "DF, categorical_columns, numerical_columns = updateDataFrame(DF, 'Functional')\n",
    "droppedCols.append('Functional')"
   ]
  },
  {
   "cell_type": "markdown",
   "metadata": {},
   "source": [
    "# 33"
   ]
  },
  {
   "cell_type": "code",
   "execution_count": 69,
   "metadata": {},
   "outputs": [
    {
     "name": "stdout",
     "output_type": "stream",
     "text": [
      "Inspecting Column: FireplaceQu\n",
      "Data Type: object\n",
      "Number of Unique Categories: 6\n",
      "Unique Categories: [nan 'Gd' 'TA' 'Po' 'Fa' 'Ex']\n",
      "Missing Values: 459\n",
      "\n",
      "Missing rate of FireplaceQu: 0.46316851664984865\n",
      "Missing rate of FireplaceQu: 0.0\n",
      "One-Hot Encoded DataFrame:\n",
      "      FireplaceQu_Fa  FireplaceQu_Gd  FireplaceQu_Po  FireplaceQu_TA\n",
      "1              False            True           False           False\n",
      "2              False           False           False            True\n",
      "3              False            True           False           False\n",
      "5              False           False           False            True\n",
      "7              False           False           False            True\n",
      "...              ...             ...             ...             ...\n",
      "1015           False           False           False            True\n",
      "1017           False           False           False            True\n",
      "1018           False            True           False           False\n",
      "1020           False           False           False            True\n",
      "1021           False           False            True           False\n",
      "\n",
      "[532 rows x 4 columns]\n",
      "FireplaceQu_Fa Correlation with SalePrice: -0.12574585864318116\n",
      "FireplaceQu_Gd Correlation with SalePrice: 0.11152670855183641\n",
      "FireplaceQu_Po Correlation with SalePrice: -0.15038937582000006\n",
      "FireplaceQu_TA Correlation with SalePrice: -0.11780721375704796\n"
     ]
    }
   ],
   "source": [
    "inspectCol(categorical_columns[0], DF)\n",
    "percentMissing(categorical_columns[0], DF)\n",
    "DF = DF.dropna(subset=['FireplaceQu'])\n",
    "percentMissing(categorical_columns[0], DF)\n",
    "DF_with_processed_categorical = process_categorical_column(DF, categorical_columns[0], target_variable='SalePrice')"
   ]
  },
  {
   "cell_type": "code",
   "execution_count": 70,
   "metadata": {},
   "outputs": [
    {
     "name": "stdout",
     "output_type": "stream",
     "text": [
      "Number of continuous features: 36\n",
      "Number of categorical features: 10\n",
      "Total Features: 52\n"
     ]
    }
   ],
   "source": [
    "DF, categorical_columns, numerical_columns = updateDataFrame(DF, 'FireplaceQu')\n",
    "droppedCols.append('FireplaceQu')"
   ]
  },
  {
   "cell_type": "markdown",
   "metadata": {},
   "source": [
    "# 34"
   ]
  },
  {
   "cell_type": "code",
   "execution_count": 71,
   "metadata": {},
   "outputs": [
    {
     "name": "stdout",
     "output_type": "stream",
     "text": [
      "Inspecting Column: GarageType\n",
      "Data Type: object\n",
      "Number of Unique Categories: 6\n",
      "Unique Categories: ['Detchd' 'Attchd' 'BuiltIn' nan 'Basment' '2Types']\n",
      "Missing Values: 6\n",
      "\n",
      "Missing rate of GarageType: 0.011278195488721804\n",
      "Missing rate of GarageType: 0.0\n",
      "One-Hot Encoded DataFrame:\n",
      "      GarageType_Attchd  GarageType_Basment  GarageType_BuiltIn  \\\n",
      "1                 False               False               False   \n",
      "2                  True               False               False   \n",
      "3                  True               False               False   \n",
      "5                  True               False               False   \n",
      "7                  True               False               False   \n",
      "...                 ...                 ...                 ...   \n",
      "1015               True               False               False   \n",
      "1017              False               False               False   \n",
      "1018               True               False               False   \n",
      "1020              False               False               False   \n",
      "1021              False               False               False   \n",
      "\n",
      "      GarageType_Detchd  \n",
      "1                  True  \n",
      "2                 False  \n",
      "3                 False  \n",
      "5                 False  \n",
      "7                 False  \n",
      "...                 ...  \n",
      "1015              False  \n",
      "1017               True  \n",
      "1018              False  \n",
      "1020               True  \n",
      "1021               True  \n",
      "\n",
      "[526 rows x 4 columns]\n",
      "GarageType_Attchd Correlation with SalePrice: 0.1202000498083297\n",
      "GarageType_Basment Correlation with SalePrice: -0.0517576734325908\n",
      "GarageType_BuiltIn Correlation with SalePrice: 0.22106719448971046\n",
      "GarageType_Detchd Correlation with SalePrice: -0.30346170093349145\n"
     ]
    }
   ],
   "source": [
    "inspectCol(categorical_columns[0], DF)\n",
    "percentMissing(categorical_columns[0], DF)\n",
    "DF = DF.dropna(subset=['GarageType'])\n",
    "percentMissing(categorical_columns[0], DF)\n",
    "DF_with_processed_categorical = process_categorical_column(DF, categorical_columns[0], target_variable='SalePrice')"
   ]
  },
  {
   "cell_type": "code",
   "execution_count": 72,
   "metadata": {},
   "outputs": [
    {
     "name": "stdout",
     "output_type": "stream",
     "text": [
      "Number of continuous features: 36\n",
      "Number of categorical features: 9\n",
      "Total Features: 51\n"
     ]
    }
   ],
   "source": [
    "DF, categorical_columns, numerical_columns = updateDataFrame(DF, 'GarageType')\n",
    "droppedCols.append('GarageType')"
   ]
  },
  {
   "cell_type": "code",
   "execution_count": 73,
   "metadata": {},
   "outputs": [
    {
     "name": "stdout",
     "output_type": "stream",
     "text": [
      "Inspecting Column: GarageFinish\n",
      "Data Type: object\n",
      "Number of Unique Categories: 3\n",
      "Unique Categories: ['Unf' 'Fin' 'RFn']\n",
      "Missing Values: 0\n",
      "\n",
      "One-Hot Encoded DataFrame:\n",
      "      GarageFinish_RFn  GarageFinish_Unf\n",
      "1                False              True\n",
      "2                False              True\n",
      "3                False             False\n",
      "5                 True             False\n",
      "7                 True             False\n",
      "...                ...               ...\n",
      "1015              True             False\n",
      "1017             False              True\n",
      "1018             False              True\n",
      "1020             False              True\n",
      "1021             False              True\n",
      "\n",
      "[526 rows x 2 columns]\n",
      "GarageFinish_RFn Correlation with SalePrice: -0.027658255182225276\n",
      "GarageFinish_Unf Correlation with SalePrice: -0.35384694222854846\n"
     ]
    }
   ],
   "source": [
    "#35\n",
    "inspectCol(categorical_columns[0], DF)\n",
    "DF_with_processed_categorical = process_categorical_column(DF, categorical_columns[0], target_variable='SalePrice')"
   ]
  },
  {
   "cell_type": "code",
   "execution_count": 74,
   "metadata": {},
   "outputs": [
    {
     "name": "stdout",
     "output_type": "stream",
     "text": [
      "Number of continuous features: 36\n",
      "Number of categorical features: 8\n",
      "Total Features: 50\n"
     ]
    }
   ],
   "source": [
    "DF, categorical_columns, numerical_columns = updateDataFrame(DF, 'GarageFinish')\n",
    "droppedCols.append('GarageFinish')"
   ]
  },
  {
   "cell_type": "code",
   "execution_count": 75,
   "metadata": {},
   "outputs": [
    {
     "name": "stdout",
     "output_type": "stream",
     "text": [
      "Inspecting Column: GarageQual\n",
      "Data Type: object\n",
      "Number of Unique Categories: 4\n",
      "Unique Categories: ['Fa' 'TA' 'Gd' 'Ex']\n",
      "Missing Values: 0\n",
      "\n",
      "One-Hot Encoded DataFrame:\n",
      "      GarageQual_Fa  GarageQual_Gd  GarageQual_TA\n",
      "1              True          False          False\n",
      "2             False          False           True\n",
      "3             False          False           True\n",
      "5             False          False           True\n",
      "7             False          False           True\n",
      "...             ...            ...            ...\n",
      "1015          False          False           True\n",
      "1017          False          False           True\n",
      "1018          False          False           True\n",
      "1020          False          False           True\n",
      "1021          False          False           True\n",
      "\n",
      "[526 rows x 3 columns]\n",
      "GarageQual_Fa Correlation with SalePrice: -0.10680580910563431\n",
      "GarageQual_Gd Correlation with SalePrice: 0.008640090523538067\n",
      "GarageQual_TA Correlation with SalePrice: 0.08398154269817613\n"
     ]
    }
   ],
   "source": [
    "#36\n",
    "inspectCol(categorical_columns[0], DF)\n",
    "DF_with_processed_categorical = process_categorical_column(DF, categorical_columns[0], target_variable='SalePrice')"
   ]
  },
  {
   "cell_type": "code",
   "execution_count": 76,
   "metadata": {},
   "outputs": [
    {
     "name": "stdout",
     "output_type": "stream",
     "text": [
      "Number of continuous features: 36\n",
      "Number of categorical features: 7\n",
      "Total Features: 49\n"
     ]
    }
   ],
   "source": [
    "DF, categorical_columns, numerical_columns = updateDataFrame(DF, 'GarageQual')\n",
    "droppedCols.append('GarageQual')"
   ]
  },
  {
   "cell_type": "code",
   "execution_count": 77,
   "metadata": {},
   "outputs": [
    {
     "name": "stdout",
     "output_type": "stream",
     "text": [
      "Inspecting Column: GarageCond\n",
      "Data Type: object\n",
      "Number of Unique Categories: 5\n",
      "Unique Categories: ['Po' 'TA' 'Gd' 'Fa' 'Ex']\n",
      "Missing Values: 0\n",
      "\n",
      "One-Hot Encoded DataFrame:\n",
      "      GarageCond_Fa  GarageCond_Gd  GarageCond_Po  GarageCond_TA\n",
      "1             False          False           True          False\n",
      "2             False          False          False           True\n",
      "3             False          False          False           True\n",
      "5             False          False          False           True\n",
      "7             False          False          False           True\n",
      "...             ...            ...            ...            ...\n",
      "1015          False          False          False           True\n",
      "1017          False          False          False           True\n",
      "1018          False          False          False           True\n",
      "1020          False          False          False           True\n",
      "1021          False          False          False           True\n",
      "\n",
      "[526 rows x 4 columns]\n",
      "GarageCond_Fa Correlation with SalePrice: -0.0984841235681729\n",
      "GarageCond_Gd Correlation with SalePrice: 0.019036089545767777\n",
      "GarageCond_Po Correlation with SalePrice: -0.05489003694990865\n",
      "GarageCond_TA Correlation with SalePrice: 0.09621353844624275\n"
     ]
    }
   ],
   "source": [
    "#37\n",
    "inspectCol(categorical_columns[0], DF)\n",
    "DF_with_processed_categorical = process_categorical_column(DF, categorical_columns[0], target_variable='SalePrice')"
   ]
  },
  {
   "cell_type": "code",
   "execution_count": 78,
   "metadata": {},
   "outputs": [
    {
     "name": "stdout",
     "output_type": "stream",
     "text": [
      "Number of continuous features: 36\n",
      "Number of categorical features: 6\n",
      "Total Features: 48\n"
     ]
    }
   ],
   "source": [
    "DF, categorical_columns, numerical_columns = updateDataFrame(DF, 'GarageCond')\n",
    "droppedCols.append('GarageCond')"
   ]
  },
  {
   "cell_type": "code",
   "execution_count": 79,
   "metadata": {},
   "outputs": [
    {
     "name": "stdout",
     "output_type": "stream",
     "text": [
      "Inspecting Column: PavedDrive\n",
      "Data Type: object\n",
      "Number of Unique Categories: 3\n",
      "Unique Categories: ['P' 'Y' 'N']\n",
      "Missing Values: 0\n",
      "\n",
      "One-Hot Encoded DataFrame:\n",
      "      PavedDrive_P  PavedDrive_Y\n",
      "1             True         False\n",
      "2            False          True\n",
      "3            False          True\n",
      "5            False          True\n",
      "7            False          True\n",
      "...            ...           ...\n",
      "1015         False          True\n",
      "1017         False          True\n",
      "1018         False          True\n",
      "1020         False          True\n",
      "1021         False          True\n",
      "\n",
      "[526 rows x 2 columns]\n",
      "PavedDrive_P Correlation with SalePrice: -0.1350192528388644\n",
      "PavedDrive_Y Correlation with SalePrice: 0.14423600725414423\n"
     ]
    }
   ],
   "source": [
    "#38\n",
    "inspectCol(categorical_columns[0], DF)\n",
    "DF_with_processed_categorical = process_categorical_column(DF, categorical_columns[0], target_variable='SalePrice')"
   ]
  },
  {
   "cell_type": "code",
   "execution_count": 80,
   "metadata": {},
   "outputs": [
    {
     "name": "stdout",
     "output_type": "stream",
     "text": [
      "Number of continuous features: 36\n",
      "Number of categorical features: 5\n",
      "Total Features: 47\n"
     ]
    }
   ],
   "source": [
    "DF, categorical_columns, numerical_columns = updateDataFrame(DF, 'PavedDrive')\n",
    "droppedCols.append('PavedDrive')"
   ]
  },
  {
   "cell_type": "code",
   "execution_count": 81,
   "metadata": {},
   "outputs": [
    {
     "name": "stdout",
     "output_type": "stream",
     "text": [
      "Inspecting Column: PoolQC\n",
      "Data Type: object\n",
      "Number of Unique Categories: 4\n",
      "Unique Categories: [nan 'Gd' 'Ex' 'Fa']\n",
      "Missing Values: 521\n",
      "\n",
      "Missing rate of PoolQC: 0.9904942965779467\n",
      "One-Hot Encoded DataFrame:\n",
      "      PoolQC_Fa  PoolQC_Gd\n",
      "1         False      False\n",
      "2         False      False\n",
      "3         False      False\n",
      "5         False      False\n",
      "7         False      False\n",
      "...         ...        ...\n",
      "1015      False      False\n",
      "1017      False      False\n",
      "1018      False      False\n",
      "1020      False      False\n",
      "1021      False      False\n",
      "\n",
      "[526 rows x 2 columns]\n",
      "PoolQC_Fa Correlation with SalePrice: -0.018919149516509297\n",
      "PoolQC_Gd Correlation with SalePrice: -0.001332181600408204\n"
     ]
    }
   ],
   "source": [
    "#39\n",
    "inspectCol(categorical_columns[0], DF)\n",
    "percentMissing(categorical_columns[0], DF)\n",
    "DF_with_processed_categorical = process_categorical_column(DF, categorical_columns[0], target_variable='SalePrice')"
   ]
  },
  {
   "cell_type": "code",
   "execution_count": 82,
   "metadata": {},
   "outputs": [
    {
     "name": "stdout",
     "output_type": "stream",
     "text": [
      "Number of continuous features: 36\n",
      "Number of categorical features: 4\n",
      "Total Features: 46\n"
     ]
    }
   ],
   "source": [
    "DF, categorical_columns, numerical_columns = updateDataFrame(DF, 'PoolQC')\n",
    "droppedCols.append('PoolQC')"
   ]
  },
  {
   "cell_type": "code",
   "execution_count": 83,
   "metadata": {},
   "outputs": [
    {
     "name": "stdout",
     "output_type": "stream",
     "text": [
      "Inspecting Column: Fence\n",
      "Data Type: object\n",
      "Number of Unique Categories: 5\n",
      "Unique Categories: ['MnPrv' 'GdWo' nan 'GdPrv' 'MnWw']\n",
      "Missing Values: 440\n",
      "\n",
      "Missing rate of Fence: 0.8365019011406845\n",
      "One-Hot Encoded DataFrame:\n",
      "      Fence_GdWo  Fence_MnPrv  Fence_MnWw\n",
      "1          False         True       False\n",
      "2           True        False       False\n",
      "3          False        False       False\n",
      "5          False        False       False\n",
      "7          False        False       False\n",
      "...          ...          ...         ...\n",
      "1015       False        False       False\n",
      "1017       False        False       False\n",
      "1018       False         True       False\n",
      "1020       False        False       False\n",
      "1021        True        False       False\n",
      "\n",
      "[526 rows x 3 columns]\n",
      "Fence_GdWo Correlation with SalePrice: -0.10856836634691885\n",
      "Fence_MnPrv Correlation with SalePrice: -0.1547196387780182\n",
      "Fence_MnWw Correlation with SalePrice: -0.0449167823911656\n"
     ]
    }
   ],
   "source": [
    "inspectCol(categorical_columns[0], DF)\n",
    "percentMissing(categorical_columns[0], DF)\n",
    "DF_with_processed_categorical = process_categorical_column(DF, categorical_columns[0], target_variable='SalePrice')"
   ]
  },
  {
   "cell_type": "code",
   "execution_count": 84,
   "metadata": {},
   "outputs": [
    {
     "name": "stdout",
     "output_type": "stream",
     "text": [
      "Number of continuous features: 36\n",
      "Number of categorical features: 3\n",
      "Total Features: 45\n"
     ]
    }
   ],
   "source": [
    "DF, categorical_columns, numerical_columns = updateDataFrame(DF, 'Fence')\n",
    "droppedCols.append('Fence')"
   ]
  },
  {
   "cell_type": "code",
   "execution_count": 85,
   "metadata": {},
   "outputs": [
    {
     "name": "stdout",
     "output_type": "stream",
     "text": [
      "Inspecting Column: MiscFeature\n",
      "Data Type: object\n",
      "Number of Unique Categories: 4\n",
      "Unique Categories: [nan 'Shed' 'Gar2' 'Othr']\n",
      "Missing Values: 511\n",
      "\n",
      "Missing rate of MiscFeature: 0.9714828897338403\n",
      "One-Hot Encoded DataFrame:\n",
      "      MiscFeature_Othr  MiscFeature_Shed\n",
      "1                False             False\n",
      "2                False             False\n",
      "3                False             False\n",
      "5                False             False\n",
      "7                False             False\n",
      "...                ...               ...\n",
      "1015             False             False\n",
      "1017             False             False\n",
      "1018             False             False\n",
      "1020             False             False\n",
      "1021             False             False\n",
      "\n",
      "[526 rows x 2 columns]\n",
      "MiscFeature_Othr Correlation with SalePrice: -0.04257123988367608\n",
      "MiscFeature_Shed Correlation with SalePrice: -0.08072419921386656\n"
     ]
    }
   ],
   "source": [
    "inspectCol(categorical_columns[0], DF)\n",
    "percentMissing(categorical_columns[0], DF)\n",
    "DF_with_processed_categorical = process_categorical_column(DF, categorical_columns[0], target_variable='SalePrice')"
   ]
  },
  {
   "cell_type": "code",
   "execution_count": 86,
   "metadata": {},
   "outputs": [
    {
     "name": "stdout",
     "output_type": "stream",
     "text": [
      "Number of continuous features: 36\n",
      "Number of categorical features: 2\n",
      "Total Features: 44\n"
     ]
    }
   ],
   "source": [
    "DF, categorical_columns, numerical_columns = updateDataFrame(DF, 'MiscFeature')\n",
    "droppedCols.append('MiscFeature')"
   ]
  },
  {
   "cell_type": "code",
   "execution_count": 87,
   "metadata": {},
   "outputs": [
    {
     "name": "stdout",
     "output_type": "stream",
     "text": [
      "Inspecting Column: SaleType\n",
      "Data Type: object\n",
      "Number of Unique Categories: 7\n",
      "Unique Categories: ['WD' 'New' 'COD' 'CWD' 'ConLw' 'ConLD' 'Con']\n",
      "Missing Values: 0\n",
      "\n",
      "Missing rate of SaleType: 0.0\n",
      "One-Hot Encoded DataFrame:\n",
      "      SaleType_CWD  SaleType_Con  SaleType_ConLD  SaleType_ConLw  \\\n",
      "1            False         False           False           False   \n",
      "2            False         False           False           False   \n",
      "3            False         False           False           False   \n",
      "5            False         False           False           False   \n",
      "7            False         False           False           False   \n",
      "...            ...           ...             ...             ...   \n",
      "1015         False         False           False           False   \n",
      "1017         False         False           False           False   \n",
      "1018         False         False           False           False   \n",
      "1020         False         False           False           False   \n",
      "1021         False         False           False           False   \n",
      "\n",
      "      SaleType_New  SaleType_WD  \n",
      "1            False         True  \n",
      "2            False         True  \n",
      "3            False         True  \n",
      "5            False         True  \n",
      "7            False         True  \n",
      "...            ...          ...  \n",
      "1015         False         True  \n",
      "1017         False         True  \n",
      "1018         False         True  \n",
      "1020         False         True  \n",
      "1021         False         True  \n",
      "\n",
      "[526 rows x 6 columns]\n",
      "SaleType_CWD Correlation with SalePrice: 0.007472265366543464\n",
      "SaleType_Con Correlation with SalePrice: 0.05154436970234234\n",
      "SaleType_ConLD Correlation with SalePrice: -0.03690459323320903\n",
      "SaleType_ConLw Correlation with SalePrice: -0.02887379898414915\n",
      "SaleType_New Correlation with SalePrice: 0.392245029076571\n",
      "SaleType_WD Correlation with SalePrice: -0.3354440141390599\n"
     ]
    }
   ],
   "source": [
    "inspectCol(categorical_columns[0], DF)\n",
    "percentMissing(categorical_columns[0], DF)\n",
    "DF_with_processed_categorical = process_categorical_column(DF, categorical_columns[0], target_variable='SalePrice')"
   ]
  },
  {
   "cell_type": "code",
   "execution_count": 88,
   "metadata": {},
   "outputs": [
    {
     "name": "stdout",
     "output_type": "stream",
     "text": [
      "Number of continuous features: 36\n",
      "Number of categorical features: 1\n",
      "Total Features: 43\n"
     ]
    }
   ],
   "source": [
    "DF, categorical_columns, numerical_columns = updateDataFrame(DF, 'SaleType')\n",
    "droppedCols.append('SaleType')"
   ]
  },
  {
   "cell_type": "code",
   "execution_count": 89,
   "metadata": {},
   "outputs": [
    {
     "name": "stdout",
     "output_type": "stream",
     "text": [
      "Inspecting Column: SaleCondition\n",
      "Data Type: object\n",
      "Number of Unique Categories: 5\n",
      "Unique Categories: ['Normal' 'Partial' 'Abnorml' 'Family' 'Alloca']\n",
      "Missing Values: 0\n",
      "\n",
      "One-Hot Encoded DataFrame:\n",
      "      SaleCondition_Alloca  SaleCondition_Family  SaleCondition_Normal  \\\n",
      "1                    False                 False                  True   \n",
      "2                    False                 False                  True   \n",
      "3                    False                 False                  True   \n",
      "5                    False                 False                  True   \n",
      "7                    False                 False                  True   \n",
      "...                    ...                   ...                   ...   \n",
      "1015                 False                 False                  True   \n",
      "1017                 False                 False                  True   \n",
      "1018                 False                 False                  True   \n",
      "1020                 False                 False                  True   \n",
      "1021                 False                 False                  True   \n",
      "\n",
      "      SaleCondition_Partial  \n",
      "1                     False  \n",
      "2                     False  \n",
      "3                     False  \n",
      "5                     False  \n",
      "7                     False  \n",
      "...                     ...  \n",
      "1015                  False  \n",
      "1017                  False  \n",
      "1018                  False  \n",
      "1020                  False  \n",
      "1021                  False  \n",
      "\n",
      "[526 rows x 4 columns]\n",
      "SaleCondition_Alloca Correlation with SalePrice: 0.06810603571126507\n",
      "SaleCondition_Family Correlation with SalePrice: -0.07991596909680074\n",
      "SaleCondition_Normal Correlation with SalePrice: -0.3166469933983255\n",
      "SaleCondition_Partial Correlation with SalePrice: 0.392245029076571\n"
     ]
    }
   ],
   "source": [
    "inspectCol(categorical_columns[0], DF)\n",
    "\n",
    "DF_with_processed_categorical = process_categorical_column(DF, categorical_columns[0], target_variable='SalePrice')"
   ]
  },
  {
   "cell_type": "code",
   "execution_count": 90,
   "metadata": {},
   "outputs": [
    {
     "name": "stdout",
     "output_type": "stream",
     "text": [
      "Number of continuous features: 36\n",
      "Number of categorical features: 0\n",
      "Total Features: 42\n"
     ]
    }
   ],
   "source": [
    "DF, categorical_columns, numerical_columns = updateDataFrame(DF, 'SaleCondition')\n",
    "droppedCols.append('SaleCondition')"
   ]
  },
  {
   "cell_type": "code",
   "execution_count": 91,
   "metadata": {},
   "outputs": [
    {
     "name": "stdout",
     "output_type": "stream",
     "text": [
      "Total Dropped Categorical Variables 47\n"
     ]
    }
   ],
   "source": [
    "print(\"Total Dropped Categorical Variables\", len(droppedCols))\n"
   ]
  },
  {
   "cell_type": "markdown",
   "metadata": {},
   "source": [
    "# Continous Variables\n",
    "-Inspect and check correlation and see how many we have left. "
   ]
  },
  {
   "cell_type": "code",
   "execution_count": 92,
   "metadata": {},
   "outputs": [],
   "source": [
    "droppedCont = []\n",
    "def inspectContinous(col, df):\n",
    "    print(\"Name:\", col)\n",
    "    print(df[col])\n",
    "    print(\"Missing values\", df[col].isnull().sum())\n",
    "    print(\"Correlation to target\", check_correlation(df[[col, 'SalePrice']], target_variable='SalePrice') )\n",
    "    print(\"Unique Values\", df[col].unique())"
   ]
  },
  {
   "cell_type": "code",
   "execution_count": 93,
   "metadata": {},
   "outputs": [
    {
     "name": "stdout",
     "output_type": "stream",
     "text": [
      "Name: Unnamed: 0\n",
      "1        651\n",
      "2        260\n",
      "3       1089\n",
      "5        881\n",
      "7        672\n",
      "        ... \n",
      "1015     832\n",
      "1017     962\n",
      "1018     135\n",
      "1020     668\n",
      "1021     462\n",
      "Name: Unnamed: 0, Length: 526, dtype: int64\n",
      "Missing values 0\n",
      "Correlation to target             SalePrice\n",
      "SalePrice    1.000000\n",
      "Unnamed: 0  -0.063743\n",
      "Unique Values [ 651  260 1089  881  672 1402  841  203  844  166 1424 1389  239 1361\n",
      "  719  939    4   70  522  262   95  414  616 1230  524  816 1209  467\n",
      "  228 1243  851  890 1271 1224  369  538 1075  941  417  442   55 1300\n",
      "  944  783  791  272  626 1312  700  364  400 1203   25   33 1012  530\n",
      "  564 1147 1318  120 1063 1327   24  440 1148  336  639    1  310  174\n",
      " 1024 1059  167 1433   14  732  359  196  854  413  765   34  118    6\n",
      "  343  294  114  357 1138  157  271  534  763 1367 1082 1393  857  315\n",
      " 1315   93  802  708 1329  222 1284 1344 1255 1043  267 1375  795  981\n",
      "  268  891  803  623 1162 1394  848  689  780 1120  273 1145    9  682\n",
      "  351  583 1128 1273 1250  152  661  707 1313   28  597  873  176  906\n",
      " 1440  314  817  403  229 1317  297  798  377  321  335 1427  419 1301\n",
      "  178  824 1171  190 1270 1197  852  491   62  374  657  283 1016 1126\n",
      "  568 1205  807 1109  877  769   22 1372  404 1387  299  367  982 1076\n",
      "  270 1027  811 1133  685   51   66 1285 1419   58 1004  109  665  115\n",
      "  487  261  208 1276  691  177   65  171  860 1150  866 1242 1415  206\n",
      " 1202  349 1439 1046  482 1052  964 1107  226 1417  563 1058 1277  506\n",
      "  389 1456 1268  544  560 1306  468 1245  737  384 1286  446  405   69\n",
      " 1115   20  324  885  397 1184 1355  720  600  255 1414 1244  909 1335\n",
      "  764  595 1155   84  435  992  477  366  516   13  631  658  542  447\n",
      " 1455  846  902 1210 1409 1413  527  602  159  309 1010    8   21  318\n",
      "  774 1111 1343 1181 1099  642 1400 1441  929  726  580  859  175 1168\n",
      "  618 1161  445   37  466  218  173  889 1342  257 1347  934 1092  378\n",
      "  577  306 1116   82  508 1430 1423 1105  471  549  827  640  772  511\n",
      "  712  768  888  124 1348  947 1369 1051 1178  674 1274  853  825  381\n",
      "  387 1053  443  128   11  426   72    2  983  790  496  347 1141  662\n",
      "  994  849 1451 1106  412  669  224   54  197  810  632  792  147  326\n",
      " 1421 1130  416 1332 1040 1008  172 1374  458  753  918  313  473 1298\n",
      "  300 1373 1135  433  743 1167 1239  735  385 1034  134  845  683 1199\n",
      " 1134 1288 1095 1392  334  799 1157  162 1036  478  898 1310  312  168\n",
      "  112  111 1305 1371 1357  823 1152 1019  997  611  105 1278  245 1068\n",
      "  647 1044  990  621  438  234 1395  830  690  379  244  822    7  199\n",
      " 1399  429  136 1064 1457  612  667  777  585 1248 1256  624 1032  796\n",
      "  895 1056  540  515  265  100 1237 1322 1222 1018  278    3  409  311\n",
      "  949  966  119  269  181  641 1330 1164 1254  481 1290  301  345 1182\n",
      " 1293  391 1351   46  724  581   40  937  998 1447 1346  731 1028  923\n",
      "  648  161 1026  927  907 1442  601  424 1320  485  953 1154 1006 1253\n",
      " 1262  608  258  158  180 1226  423 1183 1078  627  644  457  744 1072\n",
      "  350  444 1429  832  962  135  668  462]\n",
      "Number of continuous features: 35\n",
      "Number of categorical features: 0\n",
      "Total Features: 41\n"
     ]
    }
   ],
   "source": [
    "inspectContinous(numerical_columns[0], DF)\n",
    "DF, categorical_columns, numerical_columns = updateDataFrame(DF, 'Unnamed: 0')\n",
    "droppedCont.append('Unnamed: 0')"
   ]
  },
  {
   "cell_type": "code",
   "execution_count": 94,
   "metadata": {},
   "outputs": [
    {
     "name": "stdout",
     "output_type": "stream",
     "text": [
      "Name: Id\n",
      "1        652\n",
      "2        261\n",
      "3       1090\n",
      "5        882\n",
      "7        673\n",
      "        ... \n",
      "1015     833\n",
      "1017     963\n",
      "1018     136\n",
      "1020     669\n",
      "1021     463\n",
      "Name: Id, Length: 526, dtype: int64\n",
      "Missing values 0\n",
      "Correlation to target            SalePrice\n",
      "SalePrice   1.000000\n",
      "Id         -0.063743\n",
      "Unique Values [ 652  261 1090  882  673 1403  842  204  845  167 1425 1390  240 1362\n",
      "  720  940    5   71  523  263   96  415  617 1231  525  817 1210  468\n",
      "  229 1244  852  891 1272 1225  370  539 1076  942  418  443   56 1301\n",
      "  945  784  792  273  627 1313  701  365  401 1204   26   34 1013  531\n",
      "  565 1148 1319  121 1064 1328   25  441 1149  337  640    2  311  175\n",
      " 1025 1060  168 1434   15  733  360  197  855  414  766   35  119    7\n",
      "  344  295  115  358 1139  158  272  535  764 1368 1083 1394  858  316\n",
      " 1316   94  803  709 1330  223 1285 1345 1256 1044  268 1376  796  982\n",
      "  269  892  804  624 1163 1395  849  690  781 1121  274 1146   10  683\n",
      "  352  584 1129 1274 1251  153  662  708 1314   29  598  874  177  907\n",
      " 1441  315  818  404  230 1318  298  799  378  322  336 1428  420 1302\n",
      "  179  825 1172  191 1271 1198  853  492   63  375  658  284 1017 1127\n",
      "  569 1206  808 1110  878  770   23 1373  405 1388  300  368  983 1077\n",
      "  271 1028  812 1134  686   52   67 1286 1420   59 1005  110  666  116\n",
      "  488  262  209 1277  692  178   66  172  861 1151  867 1243 1416  207\n",
      " 1203  350 1440 1047  483 1053  965 1108  227 1418  564 1059 1278  507\n",
      "  390 1457 1269  545  561 1307  469 1246  738  385 1287  447  406   70\n",
      " 1116   21  325  886  398 1185 1356  721  601  256 1415 1245  910 1336\n",
      "  765  596 1156   85  436  993  478  367  517   14  632  659  543  448\n",
      " 1456  847  903 1211 1410 1414  528  603  160  310 1011    9   22  319\n",
      "  775 1112 1344 1182 1100  643 1401 1442  930  727  581  860  176 1169\n",
      "  619 1162  446   38  467  219  174  890 1343  258 1348  935 1093  379\n",
      "  578  307 1117   83  509 1431 1424 1106  472  550  828  641  773  512\n",
      "  713  769  889  125 1349  948 1370 1052 1179  675 1275  854  826  382\n",
      "  388 1054  444  129   12  427   73    3  984  791  497  348 1142  663\n",
      "  995  850 1452 1107  413  670  225   55  198  811  633  793  148  327\n",
      " 1422 1131  417 1333 1041 1009  173 1375  459  754  919  314  474 1299\n",
      "  301 1374 1136  434  744 1168 1240  736  386 1035  135  846  684 1200\n",
      " 1135 1289 1096 1393  335  800 1158  163 1037  479  899 1311  313  169\n",
      "  113  112 1306 1372 1358  824 1153 1020  998  612  106 1279  246 1069\n",
      "  648 1045  991  622  439  235 1396  831  691  380  245  823    8  200\n",
      " 1400  430  137 1065 1458  613  668  778  586 1249 1257  625 1033  797\n",
      "  896 1057  541  516  266  101 1238 1323 1223 1019  279    4  410  312\n",
      "  950  967  120  270  182  642 1331 1165 1255  482 1291  302  346 1183\n",
      " 1294  392 1352   47  725  582   41  938  999 1448 1347  732 1029  924\n",
      "  649  162 1027  928  908 1443  602  425 1321  486  954 1155 1007 1254\n",
      " 1263  609  259  159  181 1227  424 1184 1079  628  645  458  745 1073\n",
      "  351  445 1430  833  963  136  669  463]\n",
      "Number of continuous features: 34\n",
      "Number of categorical features: 0\n",
      "Total Features: 40\n"
     ]
    }
   ],
   "source": [
    "inspectContinous(numerical_columns[0], DF)\n",
    "DF, categorical_columns, numerical_columns = updateDataFrame(DF, 'Id')\n",
    "droppedCont.append('Id')"
   ]
  },
  {
   "cell_type": "code",
   "execution_count": 95,
   "metadata": {},
   "outputs": [
    {
     "name": "stdout",
     "output_type": "stream",
     "text": [
      "Name: MSSubClass\n",
      "1        70\n",
      "2        80\n",
      "3       120\n",
      "5        50\n",
      "7        20\n",
      "       ... \n",
      "1015     60\n",
      "1017    160\n",
      "1018     20\n",
      "1020     20\n",
      "1021     20\n",
      "Name: MSSubClass, Length: 526, dtype: int64\n",
      "Missing values 0\n",
      "Correlation to target             SalePrice\n",
      "SalePrice    1.000000\n",
      "MSSubClass  -0.082495\n",
      "Unique Values [ 70  80 120  50  20  60  90  85  30 160 190  75  40  45]\n",
      "Number of continuous features: 33\n",
      "Number of categorical features: 0\n",
      "Total Features: 39\n"
     ]
    }
   ],
   "source": [
    "inspectContinous(numerical_columns[0], DF)\n",
    "DF, categorical_columns, numerical_columns = updateDataFrame(DF, 'MSSubClass')\n",
    "droppedCont.append('MSSubClass')"
   ]
  },
  {
   "cell_type": "code",
   "execution_count": 96,
   "metadata": {},
   "outputs": [
    {
     "name": "stdout",
     "output_type": "stream",
     "text": [
      "Name: LotArea\n",
      "1        9084\n",
      "2       19296\n",
      "3        3316\n",
      "5       13758\n",
      "7       11250\n",
      "        ...  \n",
      "1015     9548\n",
      "1017     2308\n",
      "1018    10400\n",
      "1020    14175\n",
      "1021     8281\n",
      "Name: LotArea, Length: 526, dtype: int64\n",
      "Missing values 0\n",
      "Correlation to target            SalePrice\n",
      "SalePrice   1.000000\n",
      "LotArea     0.197499\n",
      "Unique Values [  9084  19296   3316  13758  11250   6762  10440   4438  12665  10708\n",
      "   9503   6000   8741  16158   9920  24090  14260  13651   5000   8471\n",
      "   9765  11228   7861  18890  11787  11425  10182   9480   8521  13891\n",
      "   3196   8064   9156  15384   9830  11553  13125   8755  22420   6240\n",
      "  10175  10762  14375   9101  11333  11764  12342   9572  14331  18800\n",
      "  14963   9750  14230  10552  10592  10200  13346  12000  14781  21453\n",
      "   6600   8246  15431   5700  14157   3982   9600   7685  12416  15498\n",
      "  11275  10562  10261  10920  11404  12011   9416  17920   8960  14587\n",
      "   7313  12376  10084   8849   7259   4224   9819  12003  39104   9056\n",
      "   9430   2665   8749  10800   8125   7795  11075   7200   8199   9018\n",
      "  11475   9638  11103  11839   8400  10991  12203   6900  11184   2117\n",
      "   8724   4045  45600   7577   7875   8263   7420   2887   5271  13500\n",
      "  11796  11512  11160  14803  46589  14774  16321   3922  12144  10029\n",
      "  13501  11526  13265  12090   3182   4230   7399  13518  11143  12099\n",
      " 164660  10930   8450   7500  17423  11216   9120  10570  23595   8850\n",
      "   7128   9490   6442   8200   9612  11883   3684  12327  14684  21384\n",
      "  11362   8834  53504   9742  10364   8520  14000   9150  10728   9520\n",
      "   9828   5062  19900  16381  13682  11751  11194   3230  12243   9588\n",
      "  14364  12936  21535  13650   9591  31770   7642   8280  10656  10625\n",
      "   3635  13673  20431  11584  16056   2500   9500  11316  23257   9950\n",
      "  16545  21780  11308  17871   9554  12474  13175  14100  17104  11341\n",
      "   6955  11428  10463  53107   9790  16492   9991  15593  12085  14215\n",
      "   5119   7590  35133  10192   6563  10927   8738  13053  11435  12589\n",
      "   9650   9549  11302  10768   8530  10667   9760  13693  10448  10652\n",
      "   4590  17503  10140  11214   7917   9317  11218  20544  10994  14948\n",
      "  10041  19378  12378  21286   6120   7449   9900  14226  10480   7558\n",
      "   5587  11880  13860   4426  13006  21695  14585  11029  12615  13728\n",
      "  11694  14778   9855   8532  10628  15660  10197  12160   9375   8814\n",
      "  15306  27650  11394  11777  13474   7750  10206  21930  19690  12256\n",
      "  11952   8529  12677   7819   6792   4671   9100  15865  17043  16196\n",
      "  14536  10635  11175   7681   9200   5362  12095   8562  11924  12800\n",
      "  10141  12692  17600  10304  13560  12456   9262  10357   4403  11600\n",
      "  13472   7134  25419  11900   9505  10846   4043   7804   7844   8877\n",
      "  12118   5306   5100  10240 215245  14977  63887  15750  11400   6180\n",
      "  10839  12886  10852   9037   6305  10335  16647  11248  11235   8773\n",
      "   5664   7838   9042   5001  12182  12898  10637  12919  17500   7800\n",
      "   8244   9965  13173  12537  14115   3013  11717  10395   9473  10400\n",
      "   3964  10452   9452   4280   7851   8123   8880  12394  10382   6171\n",
      "  11457  10355  11000  11885  13350  11443  14303  14541   8197   7056\n",
      "   7052  14601  12220  10603  12393  10186  10496  10784  14450   9550\n",
      "   8000   9360   8461   7588   7050  10000  16157   6931  11846  14112\n",
      "  16226   6435  15623  12209   9247  12822  13286  12704   8658   9675\n",
      "   9786  20781   9590   9492   8012   7700  13688   9300  11500  11003\n",
      "   9000  13700  12155  17542  12168  12435  12552  14598   4435   9187\n",
      "  53227   5395   7585   7820   8750  12546   9548   2308  14175   8281]\n"
     ]
    }
   ],
   "source": [
    "inspectContinous(numerical_columns[0], DF)\n",
    "#normalize\n"
   ]
  },
  {
   "cell_type": "code",
   "execution_count": 97,
   "metadata": {},
   "outputs": [
    {
     "name": "stdout",
     "output_type": "stream",
     "text": [
      "Name: OverallQual\n",
      "1       4\n",
      "2       6\n",
      "3       8\n",
      "5       7\n",
      "7       6\n",
      "       ..\n",
      "1015    7\n",
      "1017    6\n",
      "1018    7\n",
      "1020    5\n",
      "1021    5\n",
      "Name: OverallQual, Length: 526, dtype: int64\n",
      "Missing values 0\n",
      "Correlation to target              SalePrice\n",
      "SalePrice     1.000000\n",
      "OverallQual   0.757005\n",
      "Unique Values [ 4  6  8  7  5 10  9  3]\n"
     ]
    }
   ],
   "source": [
    "inspectContinous(numerical_columns[1], DF)"
   ]
  },
  {
   "cell_type": "code",
   "execution_count": 98,
   "metadata": {},
   "outputs": [
    {
     "name": "stdout",
     "output_type": "stream",
     "text": [
      "Name: OverallCond\n",
      "1       5\n",
      "2       5\n",
      "3       5\n",
      "5       5\n",
      "7       6\n",
      "       ..\n",
      "1015    6\n",
      "1017    6\n",
      "1018    6\n",
      "1020    6\n",
      "1021    5\n",
      "Name: OverallCond, Length: 526, dtype: int64\n",
      "Missing values 0\n",
      "Correlation to target              SalePrice\n",
      "SalePrice     1.000000\n",
      "OverallCond  -0.112766\n",
      "Unique Values [5 6 8 4 7 9 2 3]\n"
     ]
    }
   ],
   "source": [
    "inspectContinous(numerical_columns[2], DF)"
   ]
  },
  {
   "cell_type": "code",
   "execution_count": 99,
   "metadata": {},
   "outputs": [
    {
     "name": "stdout",
     "output_type": "stream",
     "text": [
      "Name: YearBuilt\n",
      "1       1940\n",
      "2       1962\n",
      "3       2005\n",
      "5       1990\n",
      "7       1977\n",
      "        ... \n",
      "1015    2003\n",
      "1017    1976\n",
      "1018    1970\n",
      "1020    1956\n",
      "1021    1965\n",
      "Name: YearBuilt, Length: 526, dtype: int64\n",
      "Missing values 0\n",
      "Correlation to target            SalePrice\n",
      "SalePrice   1.000000\n",
      "YearBuilt   0.475155\n",
      "Unique Values [1940 1962 2005 1990 1977 2006 1904 2004 1915 1955 1958 1941 1945 1969\n",
      " 2000 1973 1947 1993 2002 1996 1954 1942 1967 2003 1949 1968 1959 1999\n",
      " 1918 1930 1964 1978 1976 1960 2007 1923 1988 1992 2001 1925 1982 2008\n",
      " 1926 1986 1932 1998 1927 1953 2009 1905 1994 1910 1975 1919 1931 1939\n",
      " 1980 1908 1995 1920 1928 1893 1971 1957 1922 1997 1965 1979 1916 1983\n",
      " 1950 1936 1984 1934 1970 1972 1974 1935 1963 1966 1985 1929 1948 1956\n",
      " 1961 2010 1921 1989 1938 1987 1991 1914 1937 1981 1913 1917]\n"
     ]
    }
   ],
   "source": [
    "inspectContinous(numerical_columns[3], DF)"
   ]
  },
  {
   "cell_type": "code",
   "execution_count": 100,
   "metadata": {},
   "outputs": [
    {
     "name": "stdout",
     "output_type": "stream",
     "text": [
      "Name: YearRemodAdd\n",
      "1       1950\n",
      "2       1962\n",
      "3       2005\n",
      "5       1991\n",
      "7       1977\n",
      "        ... \n",
      "1015    2003\n",
      "1017    1976\n",
      "1018    1970\n",
      "1020    1987\n",
      "1021    1965\n",
      "Name: YearRemodAdd, Length: 526, dtype: int64\n",
      "Missing values 0\n",
      "Correlation to target               SalePrice\n",
      "SalePrice      1.000000\n",
      "YearRemodAdd   0.499669\n",
      "Unique Values [1950 1962 2005 1991 1977 2006 2002 2004 1993 1983 1969 2000 1973 1995\n",
      " 2003 1997 1954 1967 1968 1984 1999 1992 1964 1958 1978 1976 2007 1990\n",
      " 1996 2001 1959 1989 1980 2008 1994 1986 1960 1998 1974 1953 2010 1975\n",
      " 1981 1955 2009 1988 1971 1965 1979 1972 1963 1985 1987 1956 1970 1961\n",
      " 1966 1957]\n"
     ]
    }
   ],
   "source": [
    "inspectContinous(numerical_columns[4], DF)"
   ]
  },
  {
   "cell_type": "code",
   "execution_count": 101,
   "metadata": {},
   "outputs": [
    {
     "name": "stdout",
     "output_type": "stream",
     "text": [
      "Name: BsmtFinSF1\n",
      "1          0\n",
      "2        672\n",
      "3       1039\n",
      "5        902\n",
      "7        767\n",
      "        ... \n",
      "1015     483\n",
      "1017     556\n",
      "1018       0\n",
      "1020     988\n",
      "1021     553\n",
      "Name: BsmtFinSF1, Length: 526, dtype: int64\n",
      "Missing values 0\n",
      "Correlation to target             SalePrice\n",
      "SalePrice    1.000000\n",
      "BsmtFinSF1   0.359626\n",
      "Unique Values [   0  672 1039  902  767  662  379  457  375   94 1274  523  655 1880\n",
      "  399  506  310   50  498  719  486 1220  386  842 1386  724   72  673\n",
      "  410  772 1128  490  694  111 1097  539  524  482  712  786 1018  783\n",
      "  728  275  938  397  641  188 1767 1249 1154  978  518 1398 1165  297\n",
      " 1288  733  252  956 1126  306 1153 1470 1369   28 1285  774  874 1567\n",
      "  226 1163  548  425  500 1046  648  550 1085  378  854  403  420  492\n",
      " 1070   20  620  851 1003 1082 1065  416 1361  863 1277  831   63   16\n",
      " 1218  649  970  580  775  547 1904 1258  364   24  690 1441  485 1309\n",
      " 1170 1416  975  168  371  626 1513  584  828  912 1110  705  419  998\n",
      "  593 1455   57  639  885  988 1410  315  240  299  442  624  565  781\n",
      "  936  528  380 1280  790  192  554 1302  985  569  247 1116  603 1004\n",
      " 1238  540 1159 1148  546  686  437 1422 1157  385  536  609  144  513\n",
      "  976 1330  789  987 1480  704  697  808  594  619  477   48 1213  778\n",
      "  341  288 1024 1334   80  423 1445  328  700  353   33  141 1032  422\n",
      "  351 1443 1300  370  892  564 1636  631  383  512 1518 1231 1270  381\n",
      " 1172  738  578   56  384 1036  663  822  862 1619  360  622  209  495\n",
      " 1236 1350 5644  841 1282  444  428  390  570 1390 1059 1158  769  904\n",
      " 1201 1022 2188 1406  507  984  250 1572  734  296  605  804  929  837\n",
      " 1104 1074  365  625 1040  695  859 1088  264 1005  740  990 1138  762\n",
      " 1460  319 1314 1012  400  659 1260 1436  588 1200  674  196  216  680\n",
      "  982  751  352 1014  281 2096  194 1351 1234  643 1079  368  165 1016\n",
      "  552  223  765  616  189  607  562  454 1237  125  361  222  436  986\n",
      "  821 1121  642  678  483  556  553]\n"
     ]
    }
   ],
   "source": [
    "inspectContinous(numerical_columns[5], DF)"
   ]
  },
  {
   "cell_type": "code",
   "execution_count": 102,
   "metadata": {},
   "outputs": [
    {
     "name": "stdout",
     "output_type": "stream",
     "text": [
      "Name: BsmtFinSF2\n",
      "1         0\n",
      "2       690\n",
      "3         0\n",
      "5         0\n",
      "7         0\n",
      "       ... \n",
      "1015      0\n",
      "1017      0\n",
      "1018      0\n",
      "1020      0\n",
      "1021    311\n",
      "Name: BsmtFinSF2, Length: 526, dtype: int64\n",
      "Missing values 0\n",
      "Correlation to target             SalePrice\n",
      "SalePrice    1.000000\n",
      "BsmtFinSF2  -0.019006\n",
      "Unique Values [   0  690  768  374  531  211  258  354  668  539  208  400  557 1085\n",
      "  150 1063  173  276  125  500  620  180  147  165  177  546  182  441\n",
      "  168  110  163   81  713 1057  344  117 1127  219  551  127  823  972\n",
      "  184  377  682  215  634  820  547   32  230  228  391   68   41  841\n",
      "  661  193 1031  132  311]\n",
      "Number of continuous features: 32\n",
      "Number of categorical features: 0\n",
      "Total Features: 38\n"
     ]
    }
   ],
   "source": [
    "inspectContinous(numerical_columns[6], DF)\n",
    "DF, categorical_columns, numerical_columns = updateDataFrame(DF, 'BsmtFinSF2')\n",
    "droppedCont.append('BsmtFinSF2')"
   ]
  },
  {
   "cell_type": "code",
   "execution_count": 103,
   "metadata": {},
   "outputs": [
    {
     "name": "stdout",
     "output_type": "stream",
     "text": [
      "Name: BsmtUnfSF\n",
      "1        755\n",
      "2          0\n",
      "3        208\n",
      "5        254\n",
      "7        441\n",
      "        ... \n",
      "1015     458\n",
      "1017     248\n",
      "1018    1304\n",
      "1020     200\n",
      "1021       0\n",
      "Name: BsmtUnfSF, Length: 526, dtype: int64\n",
      "Missing values 0\n",
      "Correlation to target            SalePrice\n",
      "SalePrice    1.00000\n",
      "BsmtUnfSF    0.16149\n",
      "Unique Values [ 755    0  208  254  441 1286  650  186  876  470  193  360  641  256\n",
      "  448 1032  490  343  605  370  499  326  652  660  522  440  342   70\n",
      "  690 1273  672 1489   64  733  378  390  220  242 1078  935  284  354\n",
      "  628  978  971  526   84  474 1630 1566  380  602  678  367  429 1753\n",
      "  706  175  204  788  572  673  366  179  294  936  520  901  130  600\n",
      "  372 1008 1498  408  203  317 1656  131  104  268  774   96  707   89\n",
      "   36 1459  482  702  291  176  168   80  728  163  804  459 1571  371\n",
      "  212  192 1734  336  402  286  907 1342 1237 1012 1042  140  288  847\n",
      "  300 1045  409   88  461 1393  207 1258  457  320 1560  588  712  350\n",
      " 1141 1357 1352 1926 1580  166  103  333  281  224  312  599  556   74\n",
      "  815  554  238 1346  776 1468  814 1373   55 1496   15  797  292  234\n",
      " 1777  133  806 1092 1266  170 1095  125  544  180  816 1035  780  734\n",
      " 1410 1330 1139 1406  310  486 1482   92  989 1143  912  932 1638  398\n",
      " 1140  884  438  114 1752  611  374  868  638  503 1163 1152  397  589\n",
      "  536  100   90 1368 1626  585  893  595  557  165  701  730 1158  710\n",
      "  460  324  413  570  594  512  975  833  792  742  664  392  280  384\n",
      "  169 2153  785  689 1494 1530  379  930  953  227  783 1055  791  122\n",
      "  119 1335  622  720  952  637 1935  400  896  120  567  542  862  151\n",
      "  964   72  331  435  725  501 1774  568 1436  700  481 1284  270 1652\n",
      "  160  758  411  285  548  732  697  431  808 1434  480 1836 1043 1362\n",
      "   39  316  315 1316  731  244  661  563  442 1293  410  148  177  832\n",
      "  434 1128 1129 1969  399 1392  528 1573  172  892 2336  564  255  709\n",
      "  500  463  126 1710 1026 1030  422  626  466 1351  960  926   76  173\n",
      " 1048 1232  920  891  504  916 1290   95  115  162  340  598  417  142\n",
      "  496  840  134  161  344  778  230 1442  427 1053  105 1420  322   75\n",
      "  235 1094  352  982  253  216  625  387  519  184  877  309  102  416\n",
      "  485  705  578  606  844 2121  540  245  319 1588  289  746  225  138\n",
      "  747  972  539   83  464 2042  445  772 1007  141 1203   82  359  756\n",
      "  571  794  252  580  506   29  420 1104  537  769  894  484  299  645\n",
      "  248  604  810 1869  273  762  458 1304  200]\n",
      "Number of continuous features: 31\n",
      "Number of categorical features: 0\n",
      "Total Features: 37\n"
     ]
    }
   ],
   "source": [
    "inspectContinous(numerical_columns[6], DF)\n",
    "DF, categorical_columns, numerical_columns = updateDataFrame(DF, 'BsmtUnfSF')\n",
    "droppedCont.append('BsmtUnfSF')"
   ]
  },
  {
   "cell_type": "code",
   "execution_count": 104,
   "metadata": {},
   "outputs": [
    {
     "name": "stdout",
     "output_type": "stream",
     "text": [
      "Name: TotalBsmtSF\n",
      "1        755\n",
      "2       1362\n",
      "3       1247\n",
      "5       1156\n",
      "7       1208\n",
      "        ... \n",
      "1015     941\n",
      "1017     804\n",
      "1018    1304\n",
      "1020    1188\n",
      "1021     864\n",
      "Name: TotalBsmtSF, Length: 526, dtype: int64\n",
      "Missing values 0\n",
      "Correlation to target              SalePrice\n",
      "SalePrice     1.000000\n",
      "TotalBsmtSF   0.558563\n",
      "Unique Values [ 755 1362 1247 1156 1208 1286  650  848  876 1617 1024  735 1530  971\n",
      " 1032 1145 2223 1004  506  680 1080  783 1361 1379 1008 1660  728  912\n",
      " 2076 1273  672 1489  788 1063 1051  800  992 1370 1078 1425  978  819\n",
      " 1097 1029 1152 1453 1800  796 1260 1630 1566 1398  602 1461 1095  704\n",
      " 1753  938 1103  816 1060 3094  572 1922 1520 1262  697 1606 1565  854\n",
      " 1582  936 1253 1153 1086 1726 1763 1498 1561 1673 1686 1684 1416 1028\n",
      " 1142 1567  774 1385  707 1252  757 1459  482  702  716  952 1214  935\n",
      "  713  804  884 1475  720 1571 1225  740  918 1734  756  894 1356  907\n",
      " 1237 1012 1240 1042  991 1291  847 1019 2110  825 1629 1324 1393 1484\n",
      " 1258  832 1151 1623  588 1568 1141 1373 1352  975 1926 1580 1136 1499\n",
      "  913 1056  771 2216 1261  853 1332  815  806  776 1468 1504 1496 2158\n",
      " 1836 1462 1650 1777 1108  714 1092 1099 1266 1638 1128 1190 1947  780\n",
      " 1844 1410 1346 1406  729 1482 1157  723 2444 1052 1143  932 1053 1386\n",
      " 1140 1848  539 1992  910  817  868 1203 1284 1163 1104 1680  777 1682\n",
      " 1542  654 1392 1368 1626  585  893 1328 1517 1281 1304 1158  710 1698\n",
      "  864 1572  570 1742 1058  833  792  742 1350 1494 1814 1437  384  799\n",
      "  822 2153 1394  689 1554  930  953 1055  791 1452  908 1896  637 1347\n",
      " 1935  803  896 1600 1271 1952  862  964  880 1144 1054 1202 1127 1822\n",
      " 1296 1436 1297 1277  798 1505 1604 1732 1181 1856 1164  700  408 1563\n",
      "  732 1463  808 1454 1518 1228 1860 2217 1616 1657 1316  731  661 2078\n",
      " 1293 1041 1216  660 1175  920 3200 1478 1700  528 1573 1470 2392 1360\n",
      " 1040 1117 1719 1069 1122 1134 1710 1064 1026 1030 2136 1976 6110 1165\n",
      " 2633  960  926  520  959 1476 1256 1390  916 1501 1314  943 1541 1620\n",
      " 1705 2330 1902  793  840 1264 1652  778 1073 1442 1845  942 1094 2524\n",
      " 1396 1522  440  860  982  948 1107 1713  976 1154 1299 1408 1868 1986\n",
      " 1338 1364 1838 2006 1422 1610  750 2121 1034  972 1161 1057 1588  746\n",
      " 1792 2396  858 1434 2042 1088 1113 1007 1220  768 1268 1017 1196  784\n",
      " 1192  965  963 1120 1766 1337  810 1869  915 1440  941 1188]\n"
     ]
    }
   ],
   "source": [
    "inspectContinous(numerical_columns[6], DF)"
   ]
  },
  {
   "cell_type": "code",
   "execution_count": 105,
   "metadata": {},
   "outputs": [
    {
     "name": "stdout",
     "output_type": "stream",
     "text": [
      "Name: 1stFlrSF\n",
      "1        755\n",
      "2       1382\n",
      "3       1247\n",
      "5       1187\n",
      "7       1208\n",
      "        ... \n",
      "1015     941\n",
      "1017     804\n",
      "1018    1682\n",
      "1020    1437\n",
      "1021     864\n",
      "Name: 1stFlrSF, Length: 526, dtype: int64\n",
      "Missing values 0\n",
      "Correlation to target            SalePrice\n",
      "SalePrice   1.000000\n",
      "1stFlrSF    0.552353\n",
      "Unique Values [ 755 1382 1247 1187 1208 1294  958  848  876 1867 1344  869  798 1530\n",
      "  971 1207 1145 2223 1004 1212  680 1080  807 1361 1383 1008 1660  888\n",
      "  912 2076 1456  672 1489  788 1287 1159  960 1022 1370 1128 1425 1005\n",
      " 1110 1062 1164 1422 1453 1800  790 1288 1630 1600 1700  900 1509 1166\n",
      "  860 1787  988 1103  816 1060 2402  572 1922 1567 1262  697 1651 2898\n",
      " 1096 1610  962 1253 1153 1086 1726 1779 1028 1506 1561 1699 1694 1684\n",
      " 1644 1436 1142  774 1363  707 1268  925 1459 1221  702  716 1092 1260\n",
      "  728  955  811  959 1532 1052 1571 1276  778  918 1734  756  894 1500\n",
      " 1307 1362 1012 1632 1042 1077 1291 1521  847 1357 2110 1097 1686 1324\n",
      " 1402 1036 1636 1423  832 1689 1165 1555 1352  975 1966 1580 1136 1619\n",
      " 1048 1056  753 2234 1261 1549 1332  815  851 1468 1504 1496 2196 1072\n",
      " 1836 1462 1690 1795 1108  806 1664 1152 1431 1266 1095 1646 1190 2207\n",
      "  825 1844 1426 1454  729 1484 1482 1180  735 2444 1252 1143 1656  932\n",
      " 1173 1569 1696  884 1848 1040 1992  916 1127  824  887 1214 1310 1163\n",
      " 1130 1724 1065 1742 2073 1968  664 1392 1368 1634 1140  901 1079 1328\n",
      " 1888 1620 1304 1158 1898 1709 1572 1222 1058 1053  792  742 1334 1494\n",
      " 1826 1437  804  827 1020 2069 1394 1378 1554 1680  956  953 1006 1055\n",
      " 1236 1476  927 1944  720 1372 1973 1098 1172 1652 1601 2000  950  993\n",
      " 1429 1512 2158 1828 1640 1297 1277 1137 1505 1284 1604 1776 1390 1856\n",
      " 1320 1122  779 1563  689  734 1575 1161 1434 1518 1117 1228 2217 1586\n",
      " 1629 1668 1316  820  661 1445 2084 1301 1125 1526 1258  660 1182  885\n",
      "  920 1149 3228 1478 1088 1718 1094 1578 1442 2392 1360 1309 1411 1719\n",
      " 1069 1803 1710 1064 1026  833 1038 2036 1976 4692 1336 2633  986  926\n",
      " 1464  880 1269  954 1721 1701 1659 1314  943  981 1541 2364 1902  793\n",
      "  840 1282 1661 1078  944 1811 1032 1872 2524 1407 1548  694 1133 1007\n",
      " 1107 1713 1160 1412 1154 1188 1299 1679 2028 1134 1987 1285  983 1364\n",
      " 1838 2020 1061 1168  802 2121  961 1050  972 1381  976 1113 1057 1588\n",
      " 1432  760 1792 1210 2411  858 1698 2042 1220 2156 1146  968 1617 1051\n",
      " 1264  780 1196  902 1657 1516 1104 1940  963  991  769 1470 1520 1766\n",
      " 1663 1337 1002 1869  933 1440  941 1682  864]\n"
     ]
    }
   ],
   "source": [
    "inspectContinous(numerical_columns[7], DF)"
   ]
  },
  {
   "cell_type": "code",
   "execution_count": 106,
   "metadata": {},
   "outputs": [
    {
     "name": "stdout",
     "output_type": "stream",
     "text": [
      "Name: 2ndFlrSF\n",
      "1       755\n",
      "2         0\n",
      "3         0\n",
      "5       530\n",
      "7         0\n",
      "       ... \n",
      "1015    888\n",
      "1017    744\n",
      "1018      0\n",
      "1020      0\n",
      "1021      0\n",
      "Name: 2ndFlrSF, Length: 526, dtype: int64\n",
      "Missing values 0\n",
      "Correlation to target            SalePrice\n",
      "SalePrice   1.000000\n",
      "2ndFlrSF    0.255562\n",
      "Unique Values [ 755    0  530  581  540  349  689 1196 1053  660  790 1017  702 1259\n",
      " 1015  756  252  780 1038 1254  445  978 1106 1357  784  602 1129  704\n",
      "  539  804  895  551  830  878  838 1523  884 1194  707 1097  550  691\n",
      "  779  716 1020 1031  728  677  741  748  408  797  720  676 1336  765\n",
      " 1088 1051  534 1112  896  762 1177  809 1098  975 1174  886 1332  167\n",
      "  510 1178  192  875  620 1081  651  636  504 1589  989  766  862  370\n",
      "  844  900  587 1519  482  729 1092  882 1872  668 1330  514  464  880\n",
      "  685  876  910  850 1070 1134 1306 1140  511 1054  846  590 1479  832\n",
      "  874  983 1218 1080  936  698 1286  795  725  742  670  834  831  574\n",
      "  546  930  694  769  857 1237  988  752 1274  866  208 1243 1142  872\n",
      "  817  885  304 1121  640 1104  626 1122  808 1182  523  589  688  833\n",
      " 1141  761 1360 1151  653  703  932 1060 1215  950  678  712  888  684\n",
      "  695  787  325 1414  656  545  939  903 1230  985 1066 1100 1349  793\n",
      "  448 1152  573  924  778 1168  813 1101 1028  332  901 1242  605 2065\n",
      " 1157  858  631  870  788 1096 1037  981  595  800  918  829  956 1039\n",
      " 1160  454  744]\n",
      "Number of continuous features: 30\n",
      "Number of categorical features: 0\n",
      "Total Features: 36\n"
     ]
    }
   ],
   "source": [
    "inspectContinous(numerical_columns[8], DF)\n",
    "DF, categorical_columns, numerical_columns = updateDataFrame(DF, '2ndFlrSF')\n",
    "droppedCont.append('2ndFlrSF')"
   ]
  },
  {
   "cell_type": "code",
   "execution_count": 107,
   "metadata": {},
   "outputs": [
    {
     "name": "stdout",
     "output_type": "stream",
     "text": [
      "Name: LowQualFinSF\n",
      "1       0\n",
      "2       0\n",
      "3       0\n",
      "5       0\n",
      "7       0\n",
      "       ..\n",
      "1015    0\n",
      "1017    0\n",
      "1018    0\n",
      "1020    0\n",
      "1021    0\n",
      "Name: LowQualFinSF, Length: 526, dtype: int64\n",
      "Missing values 0\n",
      "Correlation to target               SalePrice\n",
      "SalePrice       1.00000\n",
      "LowQualFinSF   -0.04827\n",
      "Unique Values [  0 420 232 384 360 392]\n",
      "Number of continuous features: 29\n",
      "Number of categorical features: 0\n",
      "Total Features: 35\n"
     ]
    }
   ],
   "source": [
    "inspectContinous(numerical_columns[8], DF)\n",
    "DF, categorical_columns, numerical_columns = updateDataFrame(DF, 'LowQualFinSF')\n",
    "droppedCont.append('LowQualFinSF')"
   ]
  },
  {
   "cell_type": "code",
   "execution_count": 108,
   "metadata": {},
   "outputs": [
    {
     "name": "stdout",
     "output_type": "stream",
     "text": [
      "Name: GrLivArea\n",
      "1       1510\n",
      "2       1382\n",
      "3       1247\n",
      "5       1717\n",
      "7       1208\n",
      "        ... \n",
      "1015    1829\n",
      "1017    1548\n",
      "1018    1682\n",
      "1020    1437\n",
      "1021     864\n",
      "Name: GrLivArea, Length: 526, dtype: int64\n",
      "Missing values 0\n",
      "Correlation to target            SalePrice\n",
      "SalePrice   1.000000\n",
      "GrLivArea   0.677742\n",
      "Unique Values [1510 1382 1247 1717 1208 1294 1539  848 1416 1867 1344 1218 1487 1530\n",
      "  971 2403 2198 2223 1664 1212 1470 2097 1509 2620 2398 1008 1660 1644\n",
      "  912 2076 1456  924 1489 1490 1287 1159 1740 2060 2624 1573 1425 1983\n",
      " 1110 1062 2270 1422 2810 1800 1574 1288 1630 1600 1700 1502 2295 1564\n",
      " 1787  988 1103  816 1060 2402 1111 1922 1567 1262 1501 1651 2898 1991\n",
      " 2161 1792 1253 2031 1924 1726 1779 1028 1506 1561 3222 1694 1684 2320\n",
      " 1142 1968 1363 1414 2365 1475 1459 1912 1481 1432 2112 2291 1632 1552\n",
      " 2447 1367 2329 2192 1571 2612  778 1683 2822 1512  894 1500 2358 1362\n",
      " 1012 1576 1077 1291 1453 2775 1959 1357 2110 1993 2448 1324 2599 1402\n",
      " 1268 1636 2555 1641 1689 2263 1555 1352 1950 3140 2466 2468 1786 1558\n",
      " 1056 1494 2234 1261 2727 1524 1690 1646 1578 1370 1928 1468 1504 2132\n",
      " 2196 1836 2224 3279 1795 1572 2526 1152 1431 1266 1466 1939 2020 2090\n",
      " 1176 2207 1412 1844 2945 1936 1458 1484 2574 2062 1395 4316 1920 2473\n",
      " 1656 1426  932 1173 1569 1696 1348 2728 1725 2868 1826 1977 1894 2021\n",
      " 2520 2450 1674 2184 1724 1911 2332 2073 3447 1496 1392 1368 1634 1868\n",
      " 1801 1953 1328 1888 1620 2287 1734 2376 2978 1709 1812 1742 1904 1848\n",
      " 1517 1334 1437 1474 1661 1851 2643 1394 2119 1554 1680 1886 1647 1775\n",
      " 1845 2093 2713 1915 2462 1944 1271 1774 1108 2646 1973 1964 1913 1652\n",
      " 1601 2704 1158 2236 1429 2654 2158 2108 1828 1640 1297 1277 1954 1505\n",
      " 2169 1604 1776 2069 1856 1320 2243 1419 1563 1378 1838 2201 2622 1969\n",
      " 2094 1434 1518 1117 1228 2217 1586 1629 1668 1316 1343 1136 1250 1445\n",
      " 2084 1301 1125 1526 1258 2324 1718 2290 1145 3228 1478 1855 1442 1180\n",
      " 2392 1360 3112 1309 1411 2013 2035 1719 1069 1981 1400 1803 1710 1767\n",
      " 1958 1666 2098 2127 2036 1976 5642 1336 2633  986 1464 1671 1768 1269\n",
      "  954 1721 1701 1659 1314  900 1638 1541 2364 1902 1118 1720 2696 1430\n",
      " 1078 1811 1032 1992 1872 2521 1094 2524 2614  694 1960 2482 1733 1713\n",
      " 1608 1214 1154 2340 1679 2028 2058 1987 1790 1285 1796 1364 1610 1948\n",
      " 1923 1846 1472 2121 2078  972 1381 1308 1113 1802 1929 1588 2452 1577\n",
      " 4476 1961 1716 2149 1698 2042 1971 2156 1146 1376 1617 1839 2668 1264\n",
      " 1978 2057 2007 1375 1196 1820 1657 2167 1788 3194 1947 1525 1933 2630\n",
      " 1130 1520 1766 1663 1337 1869 1908 1440 1829 1548 1682  864]\n"
     ]
    }
   ],
   "source": [
    "inspectContinous(numerical_columns[8], DF)\n"
   ]
  },
  {
   "cell_type": "code",
   "execution_count": 109,
   "metadata": {},
   "outputs": [
    {
     "name": "stdout",
     "output_type": "stream",
     "text": [
      "Name: BsmtFullBath\n",
      "1       1\n",
      "2       1\n",
      "3       1\n",
      "5       0\n",
      "7       1\n",
      "       ..\n",
      "1015    1\n",
      "1017    1\n",
      "1018    0\n",
      "1020    1\n",
      "1021    0\n",
      "Name: BsmtFullBath, Length: 526, dtype: int64\n",
      "Missing values 0\n",
      "Correlation to target               SalePrice\n",
      "SalePrice      1.000000\n",
      "BsmtFullBath   0.209774\n",
      "Unique Values [1 0 2]\n",
      "Number of continuous features: 28\n",
      "Number of categorical features: 0\n",
      "Total Features: 34\n"
     ]
    }
   ],
   "source": [
    "inspectContinous(numerical_columns[9], DF)\n",
    "DF, categorical_columns, numerical_columns = updateDataFrame(DF, 'BsmtFullBath')\n",
    "droppedCont.append('BsmtFullBath')"
   ]
  },
  {
   "cell_type": "code",
   "execution_count": 110,
   "metadata": {},
   "outputs": [
    {
     "name": "stdout",
     "output_type": "stream",
     "text": [
      "Name: BsmtHalfBath\n",
      "1       0\n",
      "2       0\n",
      "3       0\n",
      "5       0\n",
      "7       0\n",
      "       ..\n",
      "1015    0\n",
      "1017    0\n",
      "1018    0\n",
      "1020    0\n",
      "1021    0\n",
      "Name: BsmtHalfBath, Length: 526, dtype: int64\n",
      "Missing values 0\n",
      "Correlation to target               SalePrice\n",
      "SalePrice       1.00000\n",
      "BsmtHalfBath   -0.05027\n",
      "Unique Values [0 1 2]\n",
      "Number of continuous features: 27\n",
      "Number of categorical features: 0\n",
      "Total Features: 33\n"
     ]
    }
   ],
   "source": [
    "inspectContinous(numerical_columns[9], DF)\n",
    "DF, categorical_columns, numerical_columns = updateDataFrame(DF, 'BsmtHalfBath')\n",
    "droppedCont.append('BsmtHalfBath')"
   ]
  },
  {
   "cell_type": "code",
   "execution_count": 111,
   "metadata": {},
   "outputs": [
    {
     "name": "stdout",
     "output_type": "stream",
     "text": [
      "Name: FullBath\n",
      "1       1\n",
      "2       1\n",
      "3       1\n",
      "5       2\n",
      "7       1\n",
      "       ..\n",
      "1015    2\n",
      "1017    2\n",
      "1018    2\n",
      "1020    1\n",
      "1021    1\n",
      "Name: FullBath, Length: 526, dtype: int64\n",
      "Missing values 0\n",
      "Correlation to target            SalePrice\n",
      "SalePrice   1.000000\n",
      "FullBath    0.524085\n",
      "Unique Values [1 2 3 0]\n"
     ]
    }
   ],
   "source": [
    "inspectContinous(numerical_columns[9], DF)"
   ]
  },
  {
   "cell_type": "code",
   "execution_count": 112,
   "metadata": {},
   "outputs": [
    {
     "name": "stdout",
     "output_type": "stream",
     "text": [
      "Name: HalfBath\n",
      "1       0\n",
      "2       0\n",
      "3       1\n",
      "5       1\n",
      "7       1\n",
      "       ..\n",
      "1015    1\n",
      "1017    1\n",
      "1018    0\n",
      "1020    1\n",
      "1021    0\n",
      "Name: HalfBath, Length: 526, dtype: int64\n",
      "Missing values 0\n",
      "Correlation to target            SalePrice\n",
      "SalePrice    1.00000\n",
      "HalfBath     0.18745\n",
      "Unique Values [0 1 2]\n",
      "Number of continuous features: 26\n",
      "Number of categorical features: 0\n",
      "Total Features: 32\n"
     ]
    }
   ],
   "source": [
    "inspectContinous(numerical_columns[10], DF)\n",
    "DF, categorical_columns, numerical_columns = updateDataFrame(DF, 'HalfBath')\n",
    "droppedCont.append('HalfBath')"
   ]
  },
  {
   "cell_type": "code",
   "execution_count": 113,
   "metadata": {},
   "outputs": [
    {
     "name": "stdout",
     "output_type": "stream",
     "text": [
      "Name: BedroomAbvGr\n",
      "1       4\n",
      "2       3\n",
      "3       1\n",
      "5       3\n",
      "7       3\n",
      "       ..\n",
      "1015    3\n",
      "1017    3\n",
      "1018    3\n",
      "1020    3\n",
      "1021    3\n",
      "Name: BedroomAbvGr, Length: 526, dtype: int64\n",
      "Missing values 0\n",
      "Correlation to target               SalePrice\n",
      "SalePrice      1.000000\n",
      "BedroomAbvGr   0.084986\n",
      "Unique Values [4 3 1 2 5 0]\n",
      "Number of continuous features: 25\n",
      "Number of categorical features: 0\n",
      "Total Features: 31\n"
     ]
    }
   ],
   "source": [
    "inspectContinous(numerical_columns[10], DF)\n",
    "DF, categorical_columns, numerical_columns = updateDataFrame(DF, 'BedroomAbvGr')\n",
    "droppedCont.append('BedroomAbvGr')"
   ]
  },
  {
   "cell_type": "code",
   "execution_count": 114,
   "metadata": {},
   "outputs": [
    {
     "name": "stdout",
     "output_type": "stream",
     "text": [
      "Name: KitchenAbvGr\n",
      "1       1\n",
      "2       1\n",
      "3       1\n",
      "5       1\n",
      "7       1\n",
      "       ..\n",
      "1015    1\n",
      "1017    1\n",
      "1018    1\n",
      "1020    1\n",
      "1021    1\n",
      "Name: KitchenAbvGr, Length: 526, dtype: int64\n",
      "Missing values 0\n",
      "Correlation to target               SalePrice\n",
      "SalePrice      1.000000\n",
      "KitchenAbvGr  -0.080116\n",
      "Unique Values [1 2]\n",
      "Number of continuous features: 24\n",
      "Number of categorical features: 0\n",
      "Total Features: 30\n"
     ]
    }
   ],
   "source": [
    "inspectContinous(numerical_columns[10], DF)\n",
    "DF, categorical_columns, numerical_columns = updateDataFrame(DF, 'KitchenAbvGr')\n",
    "droppedCont.append('KitchenAbvGr')"
   ]
  },
  {
   "cell_type": "code",
   "execution_count": 115,
   "metadata": {},
   "outputs": [
    {
     "name": "stdout",
     "output_type": "stream",
     "text": [
      "Name: TotRmsAbvGrd\n",
      "1       7\n",
      "2       6\n",
      "3       4\n",
      "5       7\n",
      "7       6\n",
      "       ..\n",
      "1015    7\n",
      "1017    7\n",
      "1018    7\n",
      "1020    6\n",
      "1021    5\n",
      "Name: TotRmsAbvGrd, Length: 526, dtype: int64\n",
      "Missing values 0\n",
      "Correlation to target               SalePrice\n",
      "SalePrice      1.000000\n",
      "TotRmsAbvGrd   0.540691\n",
      "Unique Values [ 7  6  4  8  3  5 10  9 12 11]\n"
     ]
    }
   ],
   "source": [
    "inspectContinous(numerical_columns[10], DF)"
   ]
  },
  {
   "cell_type": "code",
   "execution_count": 116,
   "metadata": {},
   "outputs": [
    {
     "name": "stdout",
     "output_type": "stream",
     "text": [
      "Name: Fireplaces\n",
      "1       1\n",
      "2       1\n",
      "3       1\n",
      "5       1\n",
      "7       1\n",
      "       ..\n",
      "1015    1\n",
      "1017    1\n",
      "1018    1\n",
      "1020    1\n",
      "1021    1\n",
      "Name: Fireplaces, Length: 526, dtype: int64\n",
      "Missing values 0\n",
      "Correlation to target             SalePrice\n",
      "SalePrice    1.000000\n",
      "Fireplaces   0.157155\n",
      "Unique Values [1 3 2]\n",
      "Number of continuous features: 23\n",
      "Number of categorical features: 0\n",
      "Total Features: 29\n"
     ]
    }
   ],
   "source": [
    "inspectContinous(numerical_columns[11], DF)\n",
    "DF, categorical_columns, numerical_columns = updateDataFrame(DF, 'Fireplaces')\n",
    "droppedCont.append('Fireplaces')"
   ]
  },
  {
   "cell_type": "code",
   "execution_count": 117,
   "metadata": {},
   "outputs": [
    {
     "name": "stdout",
     "output_type": "stream",
     "text": [
      "Name: GarageCars\n",
      "1       1\n",
      "2       2\n",
      "3       2\n",
      "5       2\n",
      "7       2\n",
      "       ..\n",
      "1015    2\n",
      "1017    2\n",
      "1018    2\n",
      "1020    2\n",
      "1021    1\n",
      "Name: GarageCars, Length: 526, dtype: int64\n",
      "Missing values 0\n",
      "Correlation to target             SalePrice\n",
      "SalePrice    1.000000\n",
      "GarageCars   0.643213\n",
      "Unique Values [1 2 3]\n"
     ]
    }
   ],
   "source": [
    "inspectContinous(numerical_columns[11], DF)"
   ]
  },
  {
   "cell_type": "code",
   "execution_count": 118,
   "metadata": {},
   "outputs": [
    {
     "name": "stdout",
     "output_type": "stream",
     "text": [
      "Name: GarageCars\n",
      "1       1\n",
      "2       2\n",
      "3       2\n",
      "5       2\n",
      "7       2\n",
      "       ..\n",
      "1015    2\n",
      "1017    2\n",
      "1018    2\n",
      "1020    2\n",
      "1021    1\n",
      "Name: GarageCars, Length: 526, dtype: int64\n",
      "Missing values 0\n",
      "Correlation to target             SalePrice\n",
      "SalePrice    1.000000\n",
      "GarageCars   0.643213\n",
      "Unique Values [1 2 3]\n"
     ]
    }
   ],
   "source": [
    "inspectContinous(numerical_columns[11], DF)"
   ]
  },
  {
   "cell_type": "code",
   "execution_count": 119,
   "metadata": {},
   "outputs": [
    {
     "name": "stdout",
     "output_type": "stream",
     "text": [
      "Name: GarageArea\n",
      "1       296\n",
      "2       884\n",
      "3       550\n",
      "5       400\n",
      "7       546\n",
      "       ... \n",
      "1015    613\n",
      "1017    440\n",
      "1018    530\n",
      "1020    576\n",
      "1021    360\n",
      "Name: GarageArea, Length: 526, dtype: int64\n",
      "Missing values 0\n",
      "Correlation to target             SalePrice\n",
      "SalePrice     1.00000\n",
      "GarageArea    0.60573\n",
      "Unique Values [ 296  884  550  400  546  662  686  420  720  303  484  440  220  430\n",
      "  300  349  836  516  492  678  393  600  834  275  500  312  336  850\n",
      "  576  462  388  240  390  864  360  490  525  602  539  671  286  750\n",
      "  765  566  451  890  447  180  590  234  748  540  264  270  672  288\n",
      "  676  648  460  616  665  432  789  352  541  592  786  454  556  594\n",
      "  636  564  418  528  714  680  439  403  856  527  343  506  410  434\n",
      "  560  514  722  476  924 1020  450  402  308  338  225  205  431  445\n",
      "  880  522  495  711  779  319  521  865  857  466  820  610  872  529\n",
      "  304  213 1166  776  433  586  898  478  660  612  701  862  738  841\n",
      "  534  583  373  216 1053  800  577  280  641  457  504  487  868  497\n",
      "  832  852  306  870  706  716  164  510  422  721 1069  396  480  471\n",
      "  846 1014  426  474  866  477  501  578  667  928  853  995  736  429\n",
      "  370  630  481  758  694  840  627  330  425  542  620  858  708  468\n",
      "  656  895  483  342  482  538  208  642  572  619  774  498  526  505\n",
      "  647  712  746  372  615  588  472  621  435  808  502  186  384  552\n",
      "  645 1220  364  453  569  427  608  397  512  719  252  968  795  544\n",
      "  455  473  936  228  878  833  513  908 1418  375  804  470  320  611\n",
      "  702  459  499  626  532  912  826  567  792  377  604  624  458  463\n",
      "  318  531  575  691  796  900  315  732  256  650  825  874  683  813\n",
      "  670  768 1390  689  210  508  438  533  442  726  461  486  812  297\n",
      "  530  518  380  668  696  617  493  467  613]\n",
      "Number of continuous features: 22\n",
      "Number of categorical features: 0\n",
      "Total Features: 28\n"
     ]
    }
   ],
   "source": [
    "inspectContinous(numerical_columns[12], DF)\n",
    "DF, categorical_columns, numerical_columns = updateDataFrame(DF, 'WoodDeckSF')\n",
    "droppedCont.append('WoodDeckSF')"
   ]
  },
  {
   "cell_type": "code",
   "execution_count": 120,
   "metadata": {},
   "outputs": [
    {
     "name": "stdout",
     "output_type": "stream",
     "text": [
      "Name: OpenPorchSF\n",
      "1        0\n",
      "2        0\n",
      "3       84\n",
      "5       36\n",
      "7       42\n",
      "        ..\n",
      "1015    39\n",
      "1017     0\n",
      "1018     0\n",
      "1020     0\n",
      "1021     0\n",
      "Name: OpenPorchSF, Length: 526, dtype: int64\n",
      "Missing values 0\n",
      "Correlation to target              SalePrice\n",
      "SalePrice     1.000000\n",
      "OpenPorchSF   0.242514\n",
      "Unique Values [  0  84  36  42  55  78  28 140  24  12  63 187  75  60  50 229  20  17\n",
      " 118  30  57 111 234  56  38  40 150 130 120  90  72  51 213 138 418 174\n",
      "  47  32  35 128  26  39  25  18 208 121 170  21  22   4  80 502  48  66\n",
      "  76 258  16 228  59 123 241  10 214 154  85  74  49  70 312 185 159  15\n",
      " 110  44 155  73 122 124 148 116 151  62 240  88 108  52 100 114 126 102\n",
      "  81 134 112 231  65 168 263  98  61 104  33 132 175  45  69  53  29 119\n",
      "  87  68  99 236 182 207 252 262  94  96 244 144 105 210 192 292 341  82\n",
      "  67 184 211 243 204  58  54 235 180  43  64 162 189 136 137 133]\n",
      "Number of continuous features: 21\n",
      "Number of categorical features: 0\n",
      "Total Features: 27\n"
     ]
    }
   ],
   "source": [
    "inspectContinous(numerical_columns[13], DF)\n",
    "DF, categorical_columns, numerical_columns = updateDataFrame(DF, 'EnclosedPorch')\n",
    "droppedCont.append('EnclosedPorch')"
   ]
  },
  {
   "cell_type": "code",
   "execution_count": 121,
   "metadata": {},
   "outputs": [
    {
     "name": "stdout",
     "output_type": "stream",
     "text": [
      "Name: OpenPorchSF\n",
      "1        0\n",
      "2        0\n",
      "3       84\n",
      "5       36\n",
      "7       42\n",
      "        ..\n",
      "1015    39\n",
      "1017     0\n",
      "1018     0\n",
      "1020     0\n",
      "1021     0\n",
      "Name: OpenPorchSF, Length: 526, dtype: int64\n",
      "Missing values 0\n",
      "Correlation to target              SalePrice\n",
      "SalePrice     1.000000\n",
      "OpenPorchSF   0.242514\n",
      "Unique Values [  0  84  36  42  55  78  28 140  24  12  63 187  75  60  50 229  20  17\n",
      " 118  30  57 111 234  56  38  40 150 130 120  90  72  51 213 138 418 174\n",
      "  47  32  35 128  26  39  25  18 208 121 170  21  22   4  80 502  48  66\n",
      "  76 258  16 228  59 123 241  10 214 154  85  74  49  70 312 185 159  15\n",
      " 110  44 155  73 122 124 148 116 151  62 240  88 108  52 100 114 126 102\n",
      "  81 134 112 231  65 168 263  98  61 104  33 132 175  45  69  53  29 119\n",
      "  87  68  99 236 182 207 252 262  94  96 244 144 105 210 192 292 341  82\n",
      "  67 184 211 243 204  58  54 235 180  43  64 162 189 136 137 133]\n",
      "Number of continuous features: 20\n",
      "Number of categorical features: 0\n",
      "Total Features: 26\n"
     ]
    }
   ],
   "source": [
    "inspectContinous(numerical_columns[13], DF)\n",
    "DF, categorical_columns, numerical_columns = updateDataFrame(DF, '3SsnPorch')\n",
    "droppedCont.append('3SsnPorch')"
   ]
  },
  {
   "cell_type": "code",
   "execution_count": 122,
   "metadata": {},
   "outputs": [
    {
     "name": "stdout",
     "output_type": "stream",
     "text": [
      "Name: OpenPorchSF\n",
      "1        0\n",
      "2        0\n",
      "3       84\n",
      "5       36\n",
      "7       42\n",
      "        ..\n",
      "1015    39\n",
      "1017     0\n",
      "1018     0\n",
      "1020     0\n",
      "1021     0\n",
      "Name: OpenPorchSF, Length: 526, dtype: int64\n",
      "Missing values 0\n",
      "Correlation to target              SalePrice\n",
      "SalePrice     1.000000\n",
      "OpenPorchSF   0.242514\n",
      "Unique Values [  0  84  36  42  55  78  28 140  24  12  63 187  75  60  50 229  20  17\n",
      " 118  30  57 111 234  56  38  40 150 130 120  90  72  51 213 138 418 174\n",
      "  47  32  35 128  26  39  25  18 208 121 170  21  22   4  80 502  48  66\n",
      "  76 258  16 228  59 123 241  10 214 154  85  74  49  70 312 185 159  15\n",
      " 110  44 155  73 122 124 148 116 151  62 240  88 108  52 100 114 126 102\n",
      "  81 134 112 231  65 168 263  98  61 104  33 132 175  45  69  53  29 119\n",
      "  87  68  99 236 182 207 252 262  94  96 244 144 105 210 192 292 341  82\n",
      "  67 184 211 243 204  58  54 235 180  43  64 162 189 136 137 133]\n",
      "Number of continuous features: 19\n",
      "Number of categorical features: 0\n",
      "Total Features: 25\n"
     ]
    }
   ],
   "source": [
    "inspectContinous(numerical_columns[13], DF)\n",
    "DF, categorical_columns, numerical_columns = updateDataFrame(DF, 'ScreenPorch')\n",
    "droppedCont.append('ScreenPorch')"
   ]
  },
  {
   "cell_type": "code",
   "execution_count": 123,
   "metadata": {},
   "outputs": [
    {
     "name": "stdout",
     "output_type": "stream",
     "text": [
      "Name: OpenPorchSF\n",
      "1        0\n",
      "2        0\n",
      "3       84\n",
      "5       36\n",
      "7       42\n",
      "        ..\n",
      "1015    39\n",
      "1017     0\n",
      "1018     0\n",
      "1020     0\n",
      "1021     0\n",
      "Name: OpenPorchSF, Length: 526, dtype: int64\n",
      "Missing values 0\n",
      "Correlation to target              SalePrice\n",
      "SalePrice     1.000000\n",
      "OpenPorchSF   0.242514\n",
      "Unique Values [  0  84  36  42  55  78  28 140  24  12  63 187  75  60  50 229  20  17\n",
      " 118  30  57 111 234  56  38  40 150 130 120  90  72  51 213 138 418 174\n",
      "  47  32  35 128  26  39  25  18 208 121 170  21  22   4  80 502  48  66\n",
      "  76 258  16 228  59 123 241  10 214 154  85  74  49  70 312 185 159  15\n",
      " 110  44 155  73 122 124 148 116 151  62 240  88 108  52 100 114 126 102\n",
      "  81 134 112 231  65 168 263  98  61 104  33 132 175  45  69  53  29 119\n",
      "  87  68  99 236 182 207 252 262  94  96 244 144 105 210 192 292 341  82\n",
      "  67 184 211 243 204  58  54 235 180  43  64 162 189 136 137 133]\n",
      "Number of continuous features: 18\n",
      "Number of categorical features: 0\n",
      "Total Features: 24\n"
     ]
    }
   ],
   "source": [
    "inspectContinous(numerical_columns[13], DF)\n",
    "DF, categorical_columns, numerical_columns = updateDataFrame(DF, 'PoolArea')\n",
    "droppedCont.append('PoolArea')"
   ]
  },
  {
   "cell_type": "code",
   "execution_count": 124,
   "metadata": {},
   "outputs": [
    {
     "name": "stdout",
     "output_type": "stream",
     "text": [
      "Name: OpenPorchSF\n",
      "1        0\n",
      "2        0\n",
      "3       84\n",
      "5       36\n",
      "7       42\n",
      "        ..\n",
      "1015    39\n",
      "1017     0\n",
      "1018     0\n",
      "1020     0\n",
      "1021     0\n",
      "Name: OpenPorchSF, Length: 526, dtype: int64\n",
      "Missing values 0\n",
      "Correlation to target              SalePrice\n",
      "SalePrice     1.000000\n",
      "OpenPorchSF   0.242514\n",
      "Unique Values [  0  84  36  42  55  78  28 140  24  12  63 187  75  60  50 229  20  17\n",
      " 118  30  57 111 234  56  38  40 150 130 120  90  72  51 213 138 418 174\n",
      "  47  32  35 128  26  39  25  18 208 121 170  21  22   4  80 502  48  66\n",
      "  76 258  16 228  59 123 241  10 214 154  85  74  49  70 312 185 159  15\n",
      " 110  44 155  73 122 124 148 116 151  62 240  88 108  52 100 114 126 102\n",
      "  81 134 112 231  65 168 263  98  61 104  33 132 175  45  69  53  29 119\n",
      "  87  68  99 236 182 207 252 262  94  96 244 144 105 210 192 292 341  82\n",
      "  67 184 211 243 204  58  54 235 180  43  64 162 189 136 137 133]\n",
      "Number of continuous features: 17\n",
      "Number of categorical features: 0\n",
      "Total Features: 23\n"
     ]
    }
   ],
   "source": [
    "inspectContinous(numerical_columns[13], DF)\n",
    "DF, categorical_columns, numerical_columns = updateDataFrame(DF, 'MiscVal')\n",
    "droppedCont.append('MiscVal')"
   ]
  },
  {
   "cell_type": "code",
   "execution_count": 125,
   "metadata": {},
   "outputs": [
    {
     "name": "stdout",
     "output_type": "stream",
     "text": [
      "Name: MoSold\n",
      "1       10\n",
      "2        5\n",
      "3        4\n",
      "5        4\n",
      "7        6\n",
      "        ..\n",
      "1015     1\n",
      "1017     7\n",
      "1018     5\n",
      "1020    11\n",
      "1021    12\n",
      "Name: MoSold, Length: 526, dtype: int64\n",
      "Missing values 0\n",
      "Correlation to target            SalePrice\n",
      "SalePrice   1.000000\n",
      "MoSold      0.020012\n",
      "Unique Values [10  5  4  6  7  1 11  3 12  2  8  9]\n",
      "Number of continuous features: 16\n",
      "Number of categorical features: 0\n",
      "Total Features: 22\n"
     ]
    }
   ],
   "source": [
    "inspectContinous(numerical_columns[14], DF)\n",
    "\n",
    "DF, categorical_columns, numerical_columns = updateDataFrame(DF, 'MoSold')\n",
    "droppedCont.append('MoSold')"
   ]
  },
  {
   "cell_type": "code",
   "execution_count": 127,
   "metadata": {},
   "outputs": [
    {
     "name": "stdout",
     "output_type": "stream",
     "text": [
      "['LotFrontage', 'LotArea', 'OverallQual', 'OverallCond', 'YearBuilt', 'YearRemodAdd', 'MasVnrArea', 'BsmtFinSF1', 'TotalBsmtSF', '1stFlrSF', 'GrLivArea', 'FullBath', 'TotRmsAbvGrd', 'GarageYrBlt', 'GarageCars', 'GarageArea', 'OpenPorchSF', 'YrSold', 'SalePrice', 'ExterQual_TA', 'Foundation_PConc', 'KitchenQual_TA']\n",
      "['MSZoning', 'Street', 'Alley', 'LotShape', 'LandContour', 'Utilities', 'LotConfig', 'LandSlope', 'Neighborhood', 'Condition1', 'Condition2', 'BldgType', 'HouseStyle', 'RoofStyle', 'RoofMatl', 'Exterior1st', 'Exterior2nd', 'MasVnrType', 'ExterQual_Gd', 'ExterQual_Fa', 'ExterCond', 'Foundation_CBlock', 'Foundation_Slab', 'Foundation_Stone', 'Foundation_Wood', 'BsmtQual', 'BsmtCond', 'BsmtExposure', 'BsmtFinType1', 'BsmtFinType2', 'Heating', 'HeatingQC', 'CentralAir', 'Electrical', 'KitchenQual', 'Functional', 'FireplaceQu', 'GarageType', 'GarageFinish', 'GarageQual', 'GarageCond', 'PavedDrive', 'PoolQC', 'Fence', 'MiscFeature', 'SaleType', 'SaleCondition']\n",
      "['Unnamed: 0', 'Id', 'MSSubClass', 'BsmtFinSF2', 'BsmtUnfSF', '2ndFlrSF', 'LowQualFinSF', 'BsmtFullBath', 'BsmtHalfBath', 'HalfBath', 'BedroomAbvGr', 'KitchenAbvGr', 'Fireplaces', 'WoodDeckSF', 'EnclosedPorch', '3SsnPorch', 'ScreenPorch', 'PoolArea', 'MiscVal', 'MoSold']\n"
     ]
    }
   ],
   "source": [
    "print(list(DF.columns))\n",
    "print(droppedCols)\n",
    "print(droppedCont)"
   ]
  },
  {
   "cell_type": "markdown",
   "metadata": {},
   "source": [
    "Make sure to one hot encode the \"continous\" variables that i have and check my feature count. "
   ]
  }
 ],
 "metadata": {
  "kernelspec": {
   "display_name": "base",
   "language": "python",
   "name": "python3"
  },
  "language_info": {
   "codemirror_mode": {
    "name": "ipython",
    "version": 3
   },
   "file_extension": ".py",
   "mimetype": "text/x-python",
   "name": "python",
   "nbconvert_exporter": "python",
   "pygments_lexer": "ipython3",
   "version": "3.11.5"
  }
 },
 "nbformat": 4,
 "nbformat_minor": 2
}
